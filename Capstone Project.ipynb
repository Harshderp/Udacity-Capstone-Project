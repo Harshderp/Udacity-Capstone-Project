{
 "cells": [
  {
   "cell_type": "markdown",
   "metadata": {},
   "source": [
    "# #Machine Learning Engineer Nanodegree\n",
    "#Final capstone project#\n",
    "***This project predicts the stock market price of S&P 500 company AMD using data from YAHOO Finance***"
   ]
  },
  {
   "cell_type": "markdown",
   "metadata": {},
   "source": [
    "# Dataset"
   ]
  },
  {
   "cell_type": "markdown",
   "metadata": {},
   "source": [
    "step 1:Getting data of S&P 500 company"
   ]
  },
  {
   "cell_type": "code",
   "execution_count": 1,
   "metadata": {},
   "outputs": [],
   "source": [
    "import pandas as pd\n",
    "import datetime\n",
    "import pandas_datareader as web\n",
    "from pandas_datareader import data\n",
    "def get_historical_data(symbol,start_date,end_date):\n",
    "    ''' Daily quotes from Google. Date format='yyyy-mm-dd' '''\n",
    "    symbol = symbol.upper()\n",
    "    start = datetime.date(int(start_date[0:4]), int(start_date[5:7]), int(start_date[8:10]))\n",
    "    end = datetime.date(int(end_date[0:4]), int(end_date[5:7]), int(end_date[8:10]))\n",
    "   \n",
    "    col_names = ['Date','Open','High','Low','Close','Volume']\n",
    "    stocks = pd.read_csv(url_string, header=0, names=col_names) \n",
    "    \n",
    "    daa = pd.DataFrame(stocks)\n",
    "    return daa"
   ]
  },
  {
   "cell_type": "markdown",
   "metadata": {},
   "source": [
    "step 2:get data from Yahoo finance"
   ]
  },
  {
   "cell_type": "code",
   "execution_count": 2,
   "metadata": {},
   "outputs": [],
   "source": [
    "start = datetime.datetime(2009,5,22)\n",
    "end = datetime.datetime(2018,8,29)"
   ]
  },
  {
   "cell_type": "code",
   "execution_count": 3,
   "metadata": {},
   "outputs": [],
   "source": [
    "tickers = ['AMD']\n",
    "\n",
    "d = web.DataReader(\"A\",'yahoo',start,end)\n",
    "d.to_csv('A.csv')\n"
   ]
  },
  {
   "cell_type": "markdown",
   "metadata": {},
   "source": [
    "# Preprocess the data"
   ]
  },
  {
   "cell_type": "code",
   "execution_count": 4,
   "metadata": {},
   "outputs": [
    {
     "name": "stdout",
     "output_type": "stream",
     "text": [
      "         Date       High        Low       Open      Close     Volume  \\\n",
      "0  2009-05-21  13.154507  12.510730  13.032905  12.646638  4439900.0   \n",
      "1  2009-05-22  12.804006  12.482118  12.703862  12.653791  3602900.0   \n",
      "2  2009-05-26  12.939914  12.446352  12.632332  12.911302  3461500.0   \n",
      "3  2009-05-27  13.090129  12.753934  12.939914  12.796853  3757800.0   \n",
      "4  2009-05-28  13.018598  12.517882  12.947067  12.861230  3126600.0   \n",
      "\n",
      "   Adj Close  \n",
      "0  11.648037  \n",
      "1  11.654627  \n",
      "2  11.891805  \n",
      "3  11.786391  \n",
      "4  11.845683  \n",
      "\n",
      " Data Types:\n",
      "Date          object\n",
      "High         float64\n",
      "Low          float64\n",
      "Open         float64\n",
      "Close        float64\n",
      "Volume       float64\n",
      "Adj Close    float64\n",
      "dtype: object\n"
     ]
    }
   ],
   "source": [
    "datl= pd.read_csv(r'A.csv')\n",
    "print (datl.head())\n",
    "print ('\\n Data Types:')\n",
    "print (datl.dtypes)"
   ]
  },
  {
   "cell_type": "code",
   "execution_count": 5,
   "metadata": {},
   "outputs": [
    {
     "name": "stdout",
     "output_type": "stream",
     "text": [
      "                 High        Low       Open      Close     Volume  Adj Close\n",
      "Date                                                                        \n",
      "2009-05-21  13.154507  12.510730  13.032905  12.646638  4439900.0  11.648037\n",
      "2009-05-22  12.804006  12.482118  12.703862  12.653791  3602900.0  11.654627\n",
      "2009-05-26  12.939914  12.446352  12.632332  12.911302  3461500.0  11.891805\n",
      "2009-05-27  13.090129  12.753934  12.939914  12.796853  3757800.0  11.786391\n",
      "2009-05-28  13.018598  12.517882  12.947067  12.861230  3126600.0  11.845683\n",
      "\n",
      "\n",
      "Open   --- mean : 38.044057928944284   \t Std:  13.98288589693391   \t Max:  74.94000244140625   \t Min:  12.632331848144531\n",
      "High   --- mean : 38.411420056672945   \t Std:  14.045250046984183   \t Max:  75.0   \t Min:  12.80400562286377\n",
      "Low    --- mean : 37.676027463315286   \t Std:  13.911554950476647   \t Max:  74.30000305175781   \t Min:  12.446352005004883\n",
      "Close  --- mean : 38.05656625514161   \t Std:  13.967007410485394   \t Max:  74.81999969482422   \t Min:  12.646637916564941\n",
      "Volume --- mean : 3650525.727739726   \t Std:  2304218.588468418   \t Max:  25368600.0   \t Min:  532700.0\n"
     ]
    }
   ],
   "source": [
    "import pandas as pd\n",
    "import numpy as np\n",
    "\n",
    "\n",
    "print(d.head())\n",
    "\n",
    "print(\"\\n\")\n",
    "print(\"Open   --- mean :\", np.mean(d['Open']),  \"  \\t Std: \", np.std(d['Open']),  \"  \\t Max: \", np.max(d['Open']),  \"  \\t Min: \", np.min(d['Open']))\n",
    "print(\"High   --- mean :\", np.mean(d['High']),  \"  \\t Std: \", np.std(d['High']),  \"  \\t Max: \", np.max(d['High']),  \"  \\t Min: \", np.min(d['High']))\n",
    "print(\"Low    --- mean :\", np.mean(d['Low']),   \"  \\t Std: \", np.std(d['Low']),   \"  \\t Max: \", np.max(d['Low']),   \"  \\t Min: \", np.min(d['Low']))\n",
    "print(\"Close  --- mean :\", np.mean(d['Close']), \"  \\t Std: \", np.std(d['Close']), \"  \\t Max: \", np.max(d['Close']), \"  \\t Min: \", np.min(d['Close']))\n",
    "print(\"Volume --- mean :\", np.mean(d['Volume']),\"  \\t Std: \", np.std(d['Volume']),\"  \\t Max: \", np.max(d['Volume']),\"  \\t Min: \", np.min(d['Volume']))\n"
   ]
  },
  {
   "cell_type": "code",
   "execution_count": 6,
   "metadata": {},
   "outputs": [
    {
     "name": "stdout",
     "output_type": "stream",
     "text": [
      "                 High        Low       Open      Close     Volume  Adj Close\n",
      "Date                                                                        \n",
      "2009-05-21  13.154507  12.510730  13.032905  12.646638  4439900.0  11.648037\n",
      "2009-05-22  12.804006  12.482118  12.703862  12.653791  3602900.0  11.654627\n",
      "2009-05-26  12.939914  12.446352  12.632332  12.911302  3461500.0  11.891805\n",
      "2009-05-27  13.090129  12.753934  12.939914  12.796853  3757800.0  11.786391\n",
      "2009-05-28  13.018598  12.517882  12.947067  12.861230  3126600.0  11.845683\n",
      "2009-05-29  13.040057  12.711016  12.911302  13.040057  2769200.0  12.010394\n",
      "2009-06-01  13.741058  13.190271  13.190271  13.505007  5764500.0  12.438632\n",
      "2009-06-02  14.163090  13.469242  13.497854  13.984263  5233600.0  12.880044\n",
      "2009-06-03  14.020029  13.705294  13.941345  13.826896  5618100.0  12.735099\n",
      "2009-06-04  14.463519  13.869814  13.869814  14.334764  4408100.0  13.202869\n",
      "                 High        Low       Open      Close     Volume  Adj Close\n",
      "Date                                                                        \n",
      "2018-08-16  65.669998  64.809998  65.040001  65.500000  3149500.0  65.067375\n",
      "2018-08-17  65.480003  64.279999  65.480003  64.660004  2449200.0  64.232925\n",
      "2018-08-20  65.110001  64.459999  64.570000  64.470001  1619900.0  64.044182\n",
      "2018-08-21  65.400002  64.620003  64.739998  64.930000  2982800.0  64.501137\n",
      "2018-08-22  65.870003  64.550003  64.739998  65.650002  2565600.0  65.216385\n",
      "2018-08-23  65.989998  65.529999  65.690002  65.690002  2287700.0  65.256126\n",
      "2018-08-24  66.260002  65.589996  65.739998  65.980003  1904200.0  65.544205\n",
      "2018-08-27  66.349998  65.860001  66.330002  66.080002  1158800.0  65.643539\n",
      "2018-08-28  67.300003  66.349998  66.410004  66.690002  2284300.0  66.249519\n",
      "2018-08-29  67.279999  66.400002  66.690002  67.010002  1852100.0  66.567413\n"
     ]
    }
   ],
   "source": [
    "print (d.head(10))\n",
    "print (d.tail(10))"
   ]
  },
  {
   "cell_type": "code",
   "execution_count": 7,
   "metadata": {},
   "outputs": [
    {
     "data": {
      "text/html": [
       "<div>\n",
       "<style scoped>\n",
       "    .dataframe tbody tr th:only-of-type {\n",
       "        vertical-align: middle;\n",
       "    }\n",
       "\n",
       "    .dataframe tbody tr th {\n",
       "        vertical-align: top;\n",
       "    }\n",
       "\n",
       "    .dataframe thead th {\n",
       "        text-align: right;\n",
       "    }\n",
       "</style>\n",
       "<table border=\"1\" class=\"dataframe\">\n",
       "  <thead>\n",
       "    <tr style=\"text-align: right;\">\n",
       "      <th></th>\n",
       "      <th></th>\n",
       "      <th></th>\n",
       "      <th></th>\n",
       "      <th></th>\n",
       "      <th>Adj Close</th>\n",
       "    </tr>\n",
       "    <tr>\n",
       "      <th>Low</th>\n",
       "      <th>High</th>\n",
       "      <th>Open</th>\n",
       "      <th>Close</th>\n",
       "      <th>Volume</th>\n",
       "      <th></th>\n",
       "    </tr>\n",
       "  </thead>\n",
       "  <tbody>\n",
       "    <tr>\n",
       "      <th>12.446352</th>\n",
       "      <th>12.939914</th>\n",
       "      <th>12.632332</th>\n",
       "      <th>12.911302</th>\n",
       "      <th>3461500.0</th>\n",
       "      <td>11.891805</td>\n",
       "    </tr>\n",
       "    <tr>\n",
       "      <th>12.482118</th>\n",
       "      <th>12.804006</th>\n",
       "      <th>12.703862</th>\n",
       "      <th>12.653791</th>\n",
       "      <th>3602900.0</th>\n",
       "      <td>11.654627</td>\n",
       "    </tr>\n",
       "    <tr>\n",
       "      <th>12.510730</th>\n",
       "      <th>13.154507</th>\n",
       "      <th>13.032905</th>\n",
       "      <th>12.646638</th>\n",
       "      <th>4439900.0</th>\n",
       "      <td>11.648037</td>\n",
       "    </tr>\n",
       "    <tr>\n",
       "      <th>12.517882</th>\n",
       "      <th>13.018598</th>\n",
       "      <th>12.947067</th>\n",
       "      <th>12.861230</th>\n",
       "      <th>3126600.0</th>\n",
       "      <td>11.845683</td>\n",
       "    </tr>\n",
       "    <tr>\n",
       "      <th>12.711016</th>\n",
       "      <th>13.040057</th>\n",
       "      <th>12.911302</th>\n",
       "      <th>13.040057</th>\n",
       "      <th>2769200.0</th>\n",
       "      <td>12.010394</td>\n",
       "    </tr>\n",
       "    <tr>\n",
       "      <th>12.753934</th>\n",
       "      <th>13.090129</th>\n",
       "      <th>12.939914</th>\n",
       "      <th>12.796853</th>\n",
       "      <th>3757800.0</th>\n",
       "      <td>11.786391</td>\n",
       "    </tr>\n",
       "    <tr>\n",
       "      <th>12.997139</th>\n",
       "      <th>13.519313</th>\n",
       "      <th>13.118741</th>\n",
       "      <th>13.390558</th>\n",
       "      <th>3287800.0</th>\n",
       "      <td>12.333218</td>\n",
       "    </tr>\n",
       "    <tr>\n",
       "      <th>13.104435</th>\n",
       "      <th>13.404864</th>\n",
       "      <th>13.340487</th>\n",
       "      <th>13.147353</th>\n",
       "      <th>4365300.0</th>\n",
       "      <td>12.109218</td>\n",
       "    </tr>\n",
       "    <tr>\n",
       "      <th>13.118741</th>\n",
       "      <th>13.490701</th>\n",
       "      <th>13.419170</th>\n",
       "      <th>13.161659</th>\n",
       "      <th>4045900.0</th>\n",
       "      <td>12.122393</td>\n",
       "    </tr>\n",
       "    <tr>\n",
       "      <th>13.133047</th>\n",
       "      <th>13.369099</th>\n",
       "      <th>13.226037</th>\n",
       "      <th>13.268955</th>\n",
       "      <th>3580100.0</th>\n",
       "      <td>12.221216</td>\n",
       "    </tr>\n",
       "    <tr>\n",
       "      <th>13.190271</th>\n",
       "      <th>13.741058</th>\n",
       "      <th>13.190271</th>\n",
       "      <th>13.505007</th>\n",
       "      <th>5764500.0</th>\n",
       "      <td>12.438632</td>\n",
       "    </tr>\n",
       "    <tr>\n",
       "      <th rowspan=\"2\" valign=\"top\">13.233191</th>\n",
       "      <th rowspan=\"2\" valign=\"top\">13.705294</th>\n",
       "      <th>13.590844</th>\n",
       "      <th>13.454936</th>\n",
       "      <th>4603800.0</th>\n",
       "      <td>12.392512</td>\n",
       "    </tr>\n",
       "    <tr>\n",
       "      <th>13.683834</th>\n",
       "      <th>13.512160</th>\n",
       "      <th>3293400.0</th>\n",
       "      <td>12.445217</td>\n",
       "    </tr>\n",
       "    <tr>\n",
       "      <th>13.240343</th>\n",
       "      <th>13.669528</th>\n",
       "      <th>13.526466</th>\n",
       "      <th>13.283262</th>\n",
       "      <th>4170600.0</th>\n",
       "      <td>12.234395</td>\n",
       "    </tr>\n",
       "    <tr>\n",
       "      <th>13.340487</th>\n",
       "      <th>13.648068</th>\n",
       "      <th>13.369099</th>\n",
       "      <th>13.597997</th>\n",
       "      <th>5450800.0</th>\n",
       "      <td>12.524279</td>\n",
       "    </tr>\n",
       "    <tr>\n",
       "      <th>13.361946</th>\n",
       "      <th>13.605150</th>\n",
       "      <th>13.490701</th>\n",
       "      <th>13.505007</th>\n",
       "      <th>4342600.0</th>\n",
       "      <td>12.438632</td>\n",
       "    </tr>\n",
       "    <tr>\n",
       "      <th>13.376252</th>\n",
       "      <th>13.662374</th>\n",
       "      <th>13.597997</th>\n",
       "      <th>13.512160</th>\n",
       "      <th>6732600.0</th>\n",
       "      <td>12.445217</td>\n",
       "    </tr>\n",
       "    <tr>\n",
       "      <th>13.390558</th>\n",
       "      <th>13.648068</th>\n",
       "      <th>13.433476</th>\n",
       "      <th>13.562232</th>\n",
       "      <th>3415500.0</th>\n",
       "      <td>12.491335</td>\n",
       "    </tr>\n",
       "    <tr>\n",
       "      <th>13.412017</th>\n",
       "      <th>13.876967</th>\n",
       "      <th>13.576538</th>\n",
       "      <th>13.869814</th>\n",
       "      <th>3290300.0</th>\n",
       "      <td>12.774629</td>\n",
       "    </tr>\n",
       "    <tr>\n",
       "      <th>13.469242</th>\n",
       "      <th>14.163090</th>\n",
       "      <th>13.497854</th>\n",
       "      <th>13.984263</th>\n",
       "      <th>5233600.0</th>\n",
       "      <td>12.880044</td>\n",
       "    </tr>\n",
       "    <tr>\n",
       "      <th>13.497854</th>\n",
       "      <th>14.356223</th>\n",
       "      <th>13.562232</th>\n",
       "      <th>14.277539</th>\n",
       "      <th>7063600.0</th>\n",
       "      <td>13.150161</td>\n",
       "    </tr>\n",
       "    <tr>\n",
       "      <th>13.547926</th>\n",
       "      <th>14.070100</th>\n",
       "      <th>14.070100</th>\n",
       "      <th>13.848354</th>\n",
       "      <th>3673500.0</th>\n",
       "      <td>12.754865</td>\n",
       "    </tr>\n",
       "    <tr>\n",
       "      <th>13.555079</th>\n",
       "      <th>14.084406</th>\n",
       "      <th>13.991416</th>\n",
       "      <th>13.583691</th>\n",
       "      <th>3558800.0</th>\n",
       "      <td>12.511100</td>\n",
       "    </tr>\n",
       "    <tr>\n",
       "      <th>13.698140</th>\n",
       "      <th>14.284693</th>\n",
       "      <th>14.248927</th>\n",
       "      <th>13.912732</th>\n",
       "      <th>3781700.0</th>\n",
       "      <td>12.814158</td>\n",
       "    </tr>\n",
       "    <tr>\n",
       "      <th rowspan=\"2\" valign=\"top\">13.705294</th>\n",
       "      <th>14.020029</th>\n",
       "      <th>13.941345</th>\n",
       "      <th>13.826896</th>\n",
       "      <th>5618100.0</th>\n",
       "      <td>12.735099</td>\n",
       "    </tr>\n",
       "    <tr>\n",
       "      <th>14.256080</th>\n",
       "      <th>14.120172</th>\n",
       "      <th>14.048641</th>\n",
       "      <th>3000500.0</th>\n",
       "      <td>12.939340</td>\n",
       "    </tr>\n",
       "    <tr>\n",
       "      <th>13.769670</th>\n",
       "      <th>14.020029</th>\n",
       "      <th>13.769670</th>\n",
       "      <th>13.941345</th>\n",
       "      <th>2331800.0</th>\n",
       "      <td>12.840515</td>\n",
       "    </tr>\n",
       "    <tr>\n",
       "      <th>13.791130</th>\n",
       "      <th>14.077253</th>\n",
       "      <th>14.077253</th>\n",
       "      <th>13.984263</th>\n",
       "      <th>3513500.0</th>\n",
       "      <td>12.880044</td>\n",
       "    </tr>\n",
       "    <tr>\n",
       "      <th>13.798284</th>\n",
       "      <th>14.449213</th>\n",
       "      <th>14.449213</th>\n",
       "      <th>14.105865</th>\n",
       "      <th>6138800.0</th>\n",
       "      <td>12.992043</td>\n",
       "    </tr>\n",
       "    <tr>\n",
       "      <th>13.869814</th>\n",
       "      <th>14.463519</th>\n",
       "      <th>13.869814</th>\n",
       "      <th>14.334764</th>\n",
       "      <th>4408100.0</th>\n",
       "      <td>13.202869</td>\n",
       "    </tr>\n",
       "    <tr>\n",
       "      <th>...</th>\n",
       "      <th>...</th>\n",
       "      <th>...</th>\n",
       "      <th>...</th>\n",
       "      <th>...</th>\n",
       "      <td>...</td>\n",
       "    </tr>\n",
       "    <tr>\n",
       "      <th>69.690002</th>\n",
       "      <th>71.160004</th>\n",
       "      <th>71.070000</th>\n",
       "      <th>69.919998</th>\n",
       "      <th>1866300.0</th>\n",
       "      <td>69.136490</td>\n",
       "    </tr>\n",
       "    <tr>\n",
       "      <th>69.870003</th>\n",
       "      <th>70.660004</th>\n",
       "      <th>70.089996</th>\n",
       "      <th>70.180000</th>\n",
       "      <th>2530400.0</th>\n",
       "      <td>69.393593</td>\n",
       "    </tr>\n",
       "    <tr>\n",
       "      <th>70.000000</th>\n",
       "      <th>71.500000</th>\n",
       "      <th>70.269997</th>\n",
       "      <th>71.129997</th>\n",
       "      <th>2061200.0</th>\n",
       "      <td>70.332939</td>\n",
       "    </tr>\n",
       "    <tr>\n",
       "      <th>70.010002</th>\n",
       "      <th>71.209999</th>\n",
       "      <th>71.000000</th>\n",
       "      <th>70.580002</th>\n",
       "      <th>5947400.0</th>\n",
       "      <td>69.789108</td>\n",
       "    </tr>\n",
       "    <tr>\n",
       "      <th>70.059998</th>\n",
       "      <th>71.370003</th>\n",
       "      <th>71.150002</th>\n",
       "      <th>70.699997</th>\n",
       "      <th>4227000.0</th>\n",
       "      <td>69.907761</td>\n",
       "    </tr>\n",
       "    <tr>\n",
       "      <th>70.110001</th>\n",
       "      <th>71.449997</th>\n",
       "      <th>71.449997</th>\n",
       "      <th>70.790001</th>\n",
       "      <th>2957200.0</th>\n",
       "      <td>69.996750</td>\n",
       "    </tr>\n",
       "    <tr>\n",
       "      <th>70.169998</th>\n",
       "      <th>72.330002</th>\n",
       "      <th>70.680000</th>\n",
       "      <th>71.769997</th>\n",
       "      <th>2666100.0</th>\n",
       "      <td>70.965767</td>\n",
       "    </tr>\n",
       "    <tr>\n",
       "      <th>70.300003</th>\n",
       "      <th>71.180000</th>\n",
       "      <th>70.919998</th>\n",
       "      <th>70.800003</th>\n",
       "      <th>1511100.0</th>\n",
       "      <td>70.006638</td>\n",
       "    </tr>\n",
       "    <tr>\n",
       "      <th>70.419998</th>\n",
       "      <th>71.519997</th>\n",
       "      <th>71.000000</th>\n",
       "      <th>70.680000</th>\n",
       "      <th>1728100.0</th>\n",
       "      <td>69.887993</td>\n",
       "    </tr>\n",
       "    <tr>\n",
       "      <th>70.500000</th>\n",
       "      <th>71.860001</th>\n",
       "      <th>70.730003</th>\n",
       "      <th>71.730003</th>\n",
       "      <th>1448100.0</th>\n",
       "      <td>70.926216</td>\n",
       "    </tr>\n",
       "    <tr>\n",
       "      <th>70.510002</th>\n",
       "      <th>71.760002</th>\n",
       "      <th>71.720001</th>\n",
       "      <th>70.680000</th>\n",
       "      <th>2403400.0</th>\n",
       "      <td>69.887993</td>\n",
       "    </tr>\n",
       "    <tr>\n",
       "      <th>70.669998</th>\n",
       "      <th>71.529999</th>\n",
       "      <th>71.199997</th>\n",
       "      <th>70.709999</th>\n",
       "      <th>2049400.0</th>\n",
       "      <td>69.917641</td>\n",
       "    </tr>\n",
       "    <tr>\n",
       "      <th>70.699997</th>\n",
       "      <th>71.849998</th>\n",
       "      <th>71.500000</th>\n",
       "      <th>71.080002</th>\n",
       "      <th>2580400.0</th>\n",
       "      <td>70.283501</td>\n",
       "    </tr>\n",
       "    <tr>\n",
       "      <th>70.970001</th>\n",
       "      <th>72.699997</th>\n",
       "      <th>71.120003</th>\n",
       "      <th>71.250000</th>\n",
       "      <th>1995600.0</th>\n",
       "      <td>70.451599</td>\n",
       "    </tr>\n",
       "    <tr>\n",
       "      <th>71.059998</th>\n",
       "      <th>72.470001</th>\n",
       "      <th>72.019997</th>\n",
       "      <th>71.230003</th>\n",
       "      <th>1702700.0</th>\n",
       "      <td>70.431831</td>\n",
       "    </tr>\n",
       "    <tr>\n",
       "      <th rowspan=\"2\" valign=\"top\">71.220001</th>\n",
       "      <th>72.760002</th>\n",
       "      <th>72.320000</th>\n",
       "      <th>71.250000</th>\n",
       "      <th>1955700.0</th>\n",
       "      <td>70.451599</td>\n",
       "    </tr>\n",
       "    <tr>\n",
       "      <th>74.989998</th>\n",
       "      <th>74.940002</th>\n",
       "      <th>72.019997</th>\n",
       "      <th>4899100.0</th>\n",
       "      <td>71.212959</td>\n",
       "    </tr>\n",
       "    <tr>\n",
       "      <th>71.589996</th>\n",
       "      <th>72.309998</th>\n",
       "      <th>71.720001</th>\n",
       "      <th>72.059998</th>\n",
       "      <th>1781800.0</th>\n",
       "      <td>71.252518</td>\n",
       "    </tr>\n",
       "    <tr>\n",
       "      <th>71.620003</th>\n",
       "      <th>72.699997</th>\n",
       "      <th>71.970001</th>\n",
       "      <th>71.970001</th>\n",
       "      <th>2887100.0</th>\n",
       "      <td>71.163521</td>\n",
       "    </tr>\n",
       "    <tr>\n",
       "      <th>71.669998</th>\n",
       "      <th>72.500000</th>\n",
       "      <th>72.199997</th>\n",
       "      <th>72.190002</th>\n",
       "      <th>1828300.0</th>\n",
       "      <td>71.381065</td>\n",
       "    </tr>\n",
       "    <tr>\n",
       "      <th>72.059998</th>\n",
       "      <th>73.220001</th>\n",
       "      <th>72.480003</th>\n",
       "      <th>73.070000</th>\n",
       "      <th>2266100.0</th>\n",
       "      <td>72.251198</td>\n",
       "    </tr>\n",
       "    <tr>\n",
       "      <th>72.510002</th>\n",
       "      <th>73.779999</th>\n",
       "      <th>73.180000</th>\n",
       "      <th>72.830002</th>\n",
       "      <th>2008200.0</th>\n",
       "      <td>72.013893</td>\n",
       "    </tr>\n",
       "    <tr>\n",
       "      <th>72.599998</th>\n",
       "      <th>73.550003</th>\n",
       "      <th>73.169998</th>\n",
       "      <th>73.480003</th>\n",
       "      <th>1963700.0</th>\n",
       "      <td>72.656609</td>\n",
       "    </tr>\n",
       "    <tr>\n",
       "      <th>72.930000</th>\n",
       "      <th>74.080002</th>\n",
       "      <th>73.989998</th>\n",
       "      <th>72.989998</th>\n",
       "      <th>1817000.0</th>\n",
       "      <td>72.172089</td>\n",
       "    </tr>\n",
       "    <tr>\n",
       "      <th>73.050003</th>\n",
       "      <th>73.860001</th>\n",
       "      <th>73.660004</th>\n",
       "      <th>73.580002</th>\n",
       "      <th>1754300.0</th>\n",
       "      <td>72.755493</td>\n",
       "    </tr>\n",
       "    <tr>\n",
       "      <th>73.239998</th>\n",
       "      <th>74.389999</th>\n",
       "      <th>73.769997</th>\n",
       "      <th>73.430000</th>\n",
       "      <th>2032800.0</th>\n",
       "      <td>72.607170</td>\n",
       "    </tr>\n",
       "    <tr>\n",
       "      <th>73.250000</th>\n",
       "      <th>74.080002</th>\n",
       "      <th>74.050003</th>\n",
       "      <th>73.440002</th>\n",
       "      <th>1213400.0</th>\n",
       "      <td>72.617058</td>\n",
       "    </tr>\n",
       "    <tr>\n",
       "      <th>73.589996</th>\n",
       "      <th>74.830002</th>\n",
       "      <th>74.300003</th>\n",
       "      <th>74.820000</th>\n",
       "      <th>2386900.0</th>\n",
       "      <td>73.981598</td>\n",
       "    </tr>\n",
       "    <tr>\n",
       "      <th>73.650002</th>\n",
       "      <th>74.489998</th>\n",
       "      <th>74.169998</th>\n",
       "      <th>73.860001</th>\n",
       "      <th>1664100.0</th>\n",
       "      <td>73.032356</td>\n",
       "    </tr>\n",
       "    <tr>\n",
       "      <th>74.300003</th>\n",
       "      <th>75.000000</th>\n",
       "      <th>74.480003</th>\n",
       "      <th>74.529999</th>\n",
       "      <th>1321900.0</th>\n",
       "      <td>73.694839</td>\n",
       "    </tr>\n",
       "  </tbody>\n",
       "</table>\n",
       "<p>2336 rows × 1 columns</p>\n",
       "</div>"
      ],
      "text/plain": [
       "                                                   Adj Close\n",
       "Low       High      Open      Close     Volume              \n",
       "12.446352 12.939914 12.632332 12.911302 3461500.0  11.891805\n",
       "12.482118 12.804006 12.703862 12.653791 3602900.0  11.654627\n",
       "12.510730 13.154507 13.032905 12.646638 4439900.0  11.648037\n",
       "12.517882 13.018598 12.947067 12.861230 3126600.0  11.845683\n",
       "12.711016 13.040057 12.911302 13.040057 2769200.0  12.010394\n",
       "12.753934 13.090129 12.939914 12.796853 3757800.0  11.786391\n",
       "12.997139 13.519313 13.118741 13.390558 3287800.0  12.333218\n",
       "13.104435 13.404864 13.340487 13.147353 4365300.0  12.109218\n",
       "13.118741 13.490701 13.419170 13.161659 4045900.0  12.122393\n",
       "13.133047 13.369099 13.226037 13.268955 3580100.0  12.221216\n",
       "13.190271 13.741058 13.190271 13.505007 5764500.0  12.438632\n",
       "13.233191 13.705294 13.590844 13.454936 4603800.0  12.392512\n",
       "                    13.683834 13.512160 3293400.0  12.445217\n",
       "13.240343 13.669528 13.526466 13.283262 4170600.0  12.234395\n",
       "13.340487 13.648068 13.369099 13.597997 5450800.0  12.524279\n",
       "13.361946 13.605150 13.490701 13.505007 4342600.0  12.438632\n",
       "13.376252 13.662374 13.597997 13.512160 6732600.0  12.445217\n",
       "13.390558 13.648068 13.433476 13.562232 3415500.0  12.491335\n",
       "13.412017 13.876967 13.576538 13.869814 3290300.0  12.774629\n",
       "13.469242 14.163090 13.497854 13.984263 5233600.0  12.880044\n",
       "13.497854 14.356223 13.562232 14.277539 7063600.0  13.150161\n",
       "13.547926 14.070100 14.070100 13.848354 3673500.0  12.754865\n",
       "13.555079 14.084406 13.991416 13.583691 3558800.0  12.511100\n",
       "13.698140 14.284693 14.248927 13.912732 3781700.0  12.814158\n",
       "13.705294 14.020029 13.941345 13.826896 5618100.0  12.735099\n",
       "          14.256080 14.120172 14.048641 3000500.0  12.939340\n",
       "13.769670 14.020029 13.769670 13.941345 2331800.0  12.840515\n",
       "13.791130 14.077253 14.077253 13.984263 3513500.0  12.880044\n",
       "13.798284 14.449213 14.449213 14.105865 6138800.0  12.992043\n",
       "13.869814 14.463519 13.869814 14.334764 4408100.0  13.202869\n",
       "...                                                      ...\n",
       "69.690002 71.160004 71.070000 69.919998 1866300.0  69.136490\n",
       "69.870003 70.660004 70.089996 70.180000 2530400.0  69.393593\n",
       "70.000000 71.500000 70.269997 71.129997 2061200.0  70.332939\n",
       "70.010002 71.209999 71.000000 70.580002 5947400.0  69.789108\n",
       "70.059998 71.370003 71.150002 70.699997 4227000.0  69.907761\n",
       "70.110001 71.449997 71.449997 70.790001 2957200.0  69.996750\n",
       "70.169998 72.330002 70.680000 71.769997 2666100.0  70.965767\n",
       "70.300003 71.180000 70.919998 70.800003 1511100.0  70.006638\n",
       "70.419998 71.519997 71.000000 70.680000 1728100.0  69.887993\n",
       "70.500000 71.860001 70.730003 71.730003 1448100.0  70.926216\n",
       "70.510002 71.760002 71.720001 70.680000 2403400.0  69.887993\n",
       "70.669998 71.529999 71.199997 70.709999 2049400.0  69.917641\n",
       "70.699997 71.849998 71.500000 71.080002 2580400.0  70.283501\n",
       "70.970001 72.699997 71.120003 71.250000 1995600.0  70.451599\n",
       "71.059998 72.470001 72.019997 71.230003 1702700.0  70.431831\n",
       "71.220001 72.760002 72.320000 71.250000 1955700.0  70.451599\n",
       "          74.989998 74.940002 72.019997 4899100.0  71.212959\n",
       "71.589996 72.309998 71.720001 72.059998 1781800.0  71.252518\n",
       "71.620003 72.699997 71.970001 71.970001 2887100.0  71.163521\n",
       "71.669998 72.500000 72.199997 72.190002 1828300.0  71.381065\n",
       "72.059998 73.220001 72.480003 73.070000 2266100.0  72.251198\n",
       "72.510002 73.779999 73.180000 72.830002 2008200.0  72.013893\n",
       "72.599998 73.550003 73.169998 73.480003 1963700.0  72.656609\n",
       "72.930000 74.080002 73.989998 72.989998 1817000.0  72.172089\n",
       "73.050003 73.860001 73.660004 73.580002 1754300.0  72.755493\n",
       "73.239998 74.389999 73.769997 73.430000 2032800.0  72.607170\n",
       "73.250000 74.080002 74.050003 73.440002 1213400.0  72.617058\n",
       "73.589996 74.830002 74.300003 74.820000 2386900.0  73.981598\n",
       "73.650002 74.489998 74.169998 73.860001 1664100.0  73.032356\n",
       "74.300003 75.000000 74.480003 74.529999 1321900.0  73.694839\n",
       "\n",
       "[2336 rows x 1 columns]"
      ]
     },
     "execution_count": 7,
     "metadata": {},
     "output_type": "execute_result"
    }
   ],
   "source": [
    "d.groupby(['Low','High','Open','Close','Volume']).max()"
   ]
  },
  {
   "cell_type": "code",
   "execution_count": 8,
   "metadata": {},
   "outputs": [],
   "source": [
    "import random\n",
    "ts=d['Volume']\n",
    "t=random.choice(ts)"
   ]
  },
  {
   "cell_type": "code",
   "execution_count": 9,
   "metadata": {},
   "outputs": [
    {
     "data": {
      "text/plain": [
       "4703100.0"
      ]
     },
     "execution_count": 9,
     "metadata": {},
     "output_type": "execute_result"
    }
   ],
   "source": [
    "t"
   ]
  },
  {
   "cell_type": "markdown",
   "metadata": {},
   "source": [
    "# Relational analysis"
   ]
  },
  {
   "cell_type": "code",
   "execution_count": 10,
   "metadata": {},
   "outputs": [],
   "source": [
    "import matplotlib.pyplot as plt"
   ]
  },
  {
   "cell_type": "code",
   "execution_count": 11,
   "metadata": {},
   "outputs": [],
   "source": [
    "X=d.drop(['Adj Close'],axis=1)\n",
    "X=X.drop(['Close'],axis=1)"
   ]
  },
  {
   "cell_type": "code",
   "execution_count": 12,
   "metadata": {},
   "outputs": [
    {
     "data": {
      "text/plain": [
       "<matplotlib.axes._subplots.AxesSubplot at 0x19bc9bd34e0>"
      ]
     },
     "execution_count": 12,
     "metadata": {},
     "output_type": "execute_result"
    },
    {
     "data": {
      "image/png": "[encoded data removed]",
      "text/plain": [
       "<Figure size 1440x720 with 1 Axes>"
      ]
     },
     "metadata": {
      "needs_background": "light"
     },
     "output_type": "display_data"
    }
   ],
   "source": [
    "X.corrwith(d['Adj Close']).plot.bar(\n",
    "        figsize = (20, 10), title = \"Correlation with Adj Close\", fontsize = 20,\n",
    "        rot = 90, grid = True)"
   ]
  },
  {
   "cell_type": "code",
   "execution_count": 13,
   "metadata": {},
   "outputs": [
    {
     "name": "stdout",
     "output_type": "stream",
     "text": [
      "                 High        Low     Volume  Adj Close\n",
      "Date                                                  \n",
      "2009-05-21  13.154507  12.510730  4439900.0  11.648037\n",
      "2009-05-22  12.804006  12.482118  3602900.0  11.654627\n",
      "2009-05-26  12.939914  12.446352  3461500.0  11.891805\n",
      "2009-05-27  13.090129  12.753934  3757800.0  11.786391\n",
      "2009-05-28  13.018598  12.517882  3126600.0  11.845683\n",
      "-----------------------------------------------------------------------------------\n",
      "                 High        Low     Volume  Adj Close\n",
      "Date                                                  \n",
      "2018-08-23  65.989998  65.529999  2287700.0  65.256126\n",
      "2018-08-24  66.260002  65.589996  1904200.0  65.544205\n",
      "2018-08-27  66.349998  65.860001  1158800.0  65.643539\n",
      "2018-08-28  67.300003  66.349998  2284300.0  66.249519\n",
      "2018-08-29  67.279999  66.400002  1852100.0  66.567413\n"
     ]
    }
   ],
   "source": [
    "import math\n",
    "import pandas as pd\n",
    "import numpy as np\n",
    "from IPython.display import display\n",
    "from sklearn import linear_model\n",
    "from sklearn.model_selection import train_test_split\n",
    "from sklearn.metrics import mean_squared_error\n",
    "from sklearn.model_selection import TimeSeriesSplit\n",
    "dr=d.drop([\"Open\",\"Close\"],axis=1)\n",
    "print(dr.head())\n",
    "print('-----------------------------------------------------------------------------------')\n",
    "print(dr.tail())\n"
   ]
  },
  {
   "cell_type": "code",
   "execution_count": 14,
   "metadata": {},
   "outputs": [
    {
     "data": {
      "text/html": [
       "<div>\n",
       "<style scoped>\n",
       "    .dataframe tbody tr th:only-of-type {\n",
       "        vertical-align: middle;\n",
       "    }\n",
       "\n",
       "    .dataframe tbody tr th {\n",
       "        vertical-align: top;\n",
       "    }\n",
       "\n",
       "    .dataframe thead th {\n",
       "        text-align: right;\n",
       "    }\n",
       "</style>\n",
       "<table border=\"1\" class=\"dataframe\">\n",
       "  <thead>\n",
       "    <tr style=\"text-align: right;\">\n",
       "      <th></th>\n",
       "      <th>High</th>\n",
       "      <th>Low</th>\n",
       "      <th>Open</th>\n",
       "      <th>Close</th>\n",
       "      <th>Volume</th>\n",
       "      <th>Adj Close</th>\n",
       "    </tr>\n",
       "    <tr>\n",
       "      <th>Date</th>\n",
       "      <th></th>\n",
       "      <th></th>\n",
       "      <th></th>\n",
       "      <th></th>\n",
       "      <th></th>\n",
       "      <th></th>\n",
       "    </tr>\n",
       "  </thead>\n",
       "  <tbody>\n",
       "    <tr>\n",
       "      <th>2009-05-21</th>\n",
       "      <td>13.154507</td>\n",
       "      <td>12.510730</td>\n",
       "      <td>13.032905</td>\n",
       "      <td>12.646638</td>\n",
       "      <td>4439900.0</td>\n",
       "      <td>11.648037</td>\n",
       "    </tr>\n",
       "    <tr>\n",
       "      <th>2009-05-22</th>\n",
       "      <td>12.804006</td>\n",
       "      <td>12.482118</td>\n",
       "      <td>12.703862</td>\n",
       "      <td>12.653791</td>\n",
       "      <td>3602900.0</td>\n",
       "      <td>11.654627</td>\n",
       "    </tr>\n",
       "    <tr>\n",
       "      <th>2009-05-26</th>\n",
       "      <td>12.939914</td>\n",
       "      <td>12.446352</td>\n",
       "      <td>12.632332</td>\n",
       "      <td>12.911302</td>\n",
       "      <td>3461500.0</td>\n",
       "      <td>11.891805</td>\n",
       "    </tr>\n",
       "    <tr>\n",
       "      <th>2009-05-27</th>\n",
       "      <td>13.090129</td>\n",
       "      <td>12.753934</td>\n",
       "      <td>12.939914</td>\n",
       "      <td>12.796853</td>\n",
       "      <td>3757800.0</td>\n",
       "      <td>11.786391</td>\n",
       "    </tr>\n",
       "    <tr>\n",
       "      <th>2009-05-28</th>\n",
       "      <td>13.018598</td>\n",
       "      <td>12.517882</td>\n",
       "      <td>12.947067</td>\n",
       "      <td>12.861230</td>\n",
       "      <td>3126600.0</td>\n",
       "      <td>11.845683</td>\n",
       "    </tr>\n",
       "  </tbody>\n",
       "</table>\n",
       "</div>"
      ],
      "text/plain": [
       "                 High        Low       Open      Close     Volume  Adj Close\n",
       "Date                                                                        \n",
       "2009-05-21  13.154507  12.510730  13.032905  12.646638  4439900.0  11.648037\n",
       "2009-05-22  12.804006  12.482118  12.703862  12.653791  3602900.0  11.654627\n",
       "2009-05-26  12.939914  12.446352  12.632332  12.911302  3461500.0  11.891805\n",
       "2009-05-27  13.090129  12.753934  12.939914  12.796853  3757800.0  11.786391\n",
       "2009-05-28  13.018598  12.517882  12.947067  12.861230  3126600.0  11.845683"
      ]
     },
     "metadata": {},
     "output_type": "display_data"
    }
   ],
   "source": [
    "test = d\n",
    "# Target column\n",
    "target_adj_close = pd.DataFrame(test['Adj Close'])\n",
    "display(test.head())"
   ]
  },
  {
   "cell_type": "code",
   "execution_count": 15,
   "metadata": {},
   "outputs": [],
   "source": [
    "dataset = pd.read_csv('A.csv',index_col=\"Date\",parse_dates=True)\n"
   ]
  },
  {
   "cell_type": "code",
   "execution_count": 16,
   "metadata": {},
   "outputs": [],
   "source": [
    "dataset_train = pd.read_csv('A.csv')\n",
    "training_set = dataset_train.iloc[:, 1:2].values"
   ]
  },
  {
   "cell_type": "markdown",
   "metadata": {},
   "source": [
    "# MinMaxScaler\n"
   ]
  },
  {
   "cell_type": "code",
   "execution_count": 17,
   "metadata": {},
   "outputs": [],
   "source": [
    "from sklearn.preprocessing import MinMaxScaler\n",
    "sc = MinMaxScaler(feature_range = (0, 1))\n",
    "training_set_scaled = sc.fit_transform(training_set)"
   ]
  },
  {
   "cell_type": "code",
   "execution_count": 18,
   "metadata": {},
   "outputs": [],
   "source": [
    "X_train = []\n",
    "y_train = []\n",
    "for i in range(60, 2035):\n",
    "    X_train.append(training_set_scaled[i-60:i, 0])\n",
    "    y_train.append(training_set_scaled[i, 0])\n",
    "X_train, y_train = np.array(X_train), np.array(y_train)\n",
    "\n",
    "X_train = np.reshape(X_train, (X_train.shape[0], X_train.shape[1], 1))"
   ]
  },
  {
   "cell_type": "code",
   "execution_count": 19,
   "metadata": {},
   "outputs": [
    {
     "data": {
      "text/plain": [
       "<tf.Tensor 'Cast:0' shape=(2,) dtype=int32>"
      ]
     },
     "execution_count": 19,
     "metadata": {},
     "output_type": "execute_result"
    }
   ],
   "source": [
    "import tensorflow as tf\n",
    "x = tf.constant([2.2, 2.3], dtype=tf.float64)\n",
    "tf.cast(x, tf.int32)"
   ]
  },
  {
   "cell_type": "code",
   "execution_count": 20,
   "metadata": {},
   "outputs": [],
   "source": [
    "def standard_scaler(X_train, X_test):\n",
    "    train_samples, train_nx, train_ny = X_train.shape\n",
    "    test_samples, test_nx, test_ny = X_test.shape\n",
    "    \n",
    "    X_train = X_train.reshape((train_samples, train_nx * train_ny))\n",
    "    X_test = X_test.reshape((test_samples, test_nx * test_ny))\n",
    "    \n",
    "    preprocessor = prep.StandardScaler().fit(X_train)\n",
    "    X_train = preprocessor.transform(X_train)\n",
    "    X_test = preprocessor.transform(X_test)\n",
    "    \n",
    "    X_train = X_train.reshape((train_samples, train_nx, train_ny))\n",
    "    X_test = X_test.reshape((test_samples, test_nx, test_ny))\n",
    "    \n",
    "    return X_train, X_test"
   ]
  },
  {
   "cell_type": "code",
   "execution_count": 21,
   "metadata": {},
   "outputs": [],
   "source": [
    "def preprocess_data(stock, seq_len):\n",
    "    amount_of_features = len(stock.columns)\n",
    "    data = stock.values\n",
    "    \n",
    "    sequence_length = seq_len + 1\n",
    "    result = []\n",
    "    for index in range(len(data) - sequence_length):\n",
    "        result.append(data[index : index + sequence_length])\n",
    "        \n",
    "    result = np.array(result)\n",
    "    row = round(0.9 * result.shape[0])\n",
    "    train = result[: int(row), :]\n",
    "    \n",
    "    train, result = standard_scaler(train, result)\n",
    "    \n",
    "    X_train = train[:, : -1]\n",
    "    y_train = train[:, -1][: ,-1]\n",
    "    X_test = result[int(row) :, : -1]\n",
    "    y_test = result[int(row) :, -1][ : ,-1]\n",
    "\n",
    "    X_train = np.reshape(X_train, (X_train.shape[0], X_train.shape[1], amount_of_features))\n",
    "    X_test = np.reshape(X_test, (X_test.shape[0], X_test.shape[1], amount_of_features))  \n",
    "\n",
    "    return [X_train, y_train, X_test, y_test]"
   ]
  },
  {
   "cell_type": "code",
   "execution_count": 22,
   "metadata": {},
   "outputs": [
    {
     "data": {
      "text/html": [
       "<div>\n",
       "<style scoped>\n",
       "    .dataframe tbody tr th:only-of-type {\n",
       "        vertical-align: middle;\n",
       "    }\n",
       "\n",
       "    .dataframe tbody tr th {\n",
       "        vertical-align: top;\n",
       "    }\n",
       "\n",
       "    .dataframe thead th {\n",
       "        text-align: right;\n",
       "    }\n",
       "</style>\n",
       "<table border=\"1\" class=\"dataframe\">\n",
       "  <thead>\n",
       "    <tr style=\"text-align: right;\">\n",
       "      <th></th>\n",
       "      <th>High</th>\n",
       "      <th>Low</th>\n",
       "      <th>Open</th>\n",
       "      <th>Close</th>\n",
       "      <th>Volume</th>\n",
       "      <th>Adj Close</th>\n",
       "    </tr>\n",
       "    <tr>\n",
       "      <th>Date</th>\n",
       "      <th></th>\n",
       "      <th></th>\n",
       "      <th></th>\n",
       "      <th></th>\n",
       "      <th></th>\n",
       "      <th></th>\n",
       "    </tr>\n",
       "  </thead>\n",
       "  <tbody>\n",
       "    <tr>\n",
       "      <th>2009-05-22</th>\n",
       "      <td>12.804006</td>\n",
       "      <td>12.482118</td>\n",
       "      <td>12.703862</td>\n",
       "      <td>12.653791</td>\n",
       "      <td>3602900.0</td>\n",
       "      <td>11.654627</td>\n",
       "    </tr>\n",
       "    <tr>\n",
       "      <th>2009-05-26</th>\n",
       "      <td>12.939914</td>\n",
       "      <td>12.446352</td>\n",
       "      <td>12.632332</td>\n",
       "      <td>12.911302</td>\n",
       "      <td>3461500.0</td>\n",
       "      <td>11.891805</td>\n",
       "    </tr>\n",
       "    <tr>\n",
       "      <th>2009-05-27</th>\n",
       "      <td>13.090129</td>\n",
       "      <td>12.753934</td>\n",
       "      <td>12.939914</td>\n",
       "      <td>12.796853</td>\n",
       "      <td>3757800.0</td>\n",
       "      <td>11.786391</td>\n",
       "    </tr>\n",
       "    <tr>\n",
       "      <th>2009-05-28</th>\n",
       "      <td>13.018598</td>\n",
       "      <td>12.517882</td>\n",
       "      <td>12.947067</td>\n",
       "      <td>12.861230</td>\n",
       "      <td>3126600.0</td>\n",
       "      <td>11.845683</td>\n",
       "    </tr>\n",
       "    <tr>\n",
       "      <th>2009-05-29</th>\n",
       "      <td>13.040057</td>\n",
       "      <td>12.711016</td>\n",
       "      <td>12.911302</td>\n",
       "      <td>13.040057</td>\n",
       "      <td>2769200.0</td>\n",
       "      <td>12.010394</td>\n",
       "    </tr>\n",
       "  </tbody>\n",
       "</table>\n",
       "</div>"
      ],
      "text/plain": [
       "                 High        Low       Open      Close     Volume  Adj Close\n",
       "Date                                                                        \n",
       "2009-05-22  12.804006  12.482118  12.703862  12.653791  3602900.0  11.654627\n",
       "2009-05-26  12.939914  12.446352  12.632332  12.911302  3461500.0  11.891805\n",
       "2009-05-27  13.090129  12.753934  12.939914  12.796853  3757800.0  11.786391\n",
       "2009-05-28  13.018598  12.517882  12.947067  12.861230  3126600.0  11.845683\n",
       "2009-05-29  13.040057  12.711016  12.911302  13.040057  2769200.0  12.010394"
      ]
     },
     "execution_count": 22,
     "metadata": {},
     "output_type": "execute_result"
    }
   ],
   "source": [
    "import pandas as pd\n",
    "m = pd.read_csv(r'A.csv', parse_dates=['Date'], na_values=['999.99'],index_col = ['Date'])\n",
    "cal = m[start :end]\n",
    "cal.head()\n"
   ]
  },
  {
   "cell_type": "code",
   "execution_count": 23,
   "metadata": {},
   "outputs": [
    {
     "data": {
      "text/plain": [
       "(2336, 6)"
      ]
     },
     "execution_count": 23,
     "metadata": {},
     "output_type": "execute_result"
    }
   ],
   "source": [
    "d.shape"
   ]
  },
  {
   "cell_type": "code",
   "execution_count": 24,
   "metadata": {},
   "outputs": [],
   "source": [
    "dataset_test = pd.read_csv('pred.csv')\n",
    "real_stock_price = dataset_test.iloc[:, 1:2].values"
   ]
  },
  {
   "cell_type": "code",
   "execution_count": 25,
   "metadata": {},
   "outputs": [
    {
     "data": {
      "image/png": "[encoded data removed]",
      "text/plain": [
       "<Figure size 432x288 with 1 Axes>"
      ]
     },
     "metadata": {
      "needs_background": "light"
     },
     "output_type": "display_data"
    }
   ],
   "source": [
    "import matplotlib.pyplot as plt\n",
    "o=plt.plot(d['Low'])\n",
    "plt.show(o)"
   ]
  },
  {
   "cell_type": "code",
   "execution_count": 26,
   "metadata": {},
   "outputs": [],
   "source": [
    "\n",
    "# selecting Feature Columns\n",
    "feature_columns = ['Open', 'High', 'Low', 'Volume']"
   ]
  },
  {
   "cell_type": "code",
   "execution_count": 27,
   "metadata": {},
   "outputs": [
    {
     "data": {
      "text/html": [
       "<div>\n",
       "<style scoped>\n",
       "    .dataframe tbody tr th:only-of-type {\n",
       "        vertical-align: middle;\n",
       "    }\n",
       "\n",
       "    .dataframe tbody tr th {\n",
       "        vertical-align: top;\n",
       "    }\n",
       "\n",
       "    .dataframe thead th {\n",
       "        text-align: right;\n",
       "    }\n",
       "</style>\n",
       "<table border=\"1\" class=\"dataframe\">\n",
       "  <thead>\n",
       "    <tr style=\"text-align: right;\">\n",
       "      <th></th>\n",
       "      <th>Open</th>\n",
       "      <th>High</th>\n",
       "      <th>Low</th>\n",
       "      <th>Volume</th>\n",
       "    </tr>\n",
       "    <tr>\n",
       "      <th>Date</th>\n",
       "      <th></th>\n",
       "      <th></th>\n",
       "      <th></th>\n",
       "      <th></th>\n",
       "    </tr>\n",
       "  </thead>\n",
       "  <tbody>\n",
       "    <tr>\n",
       "      <th>2009-05-21</th>\n",
       "      <td>0.006429</td>\n",
       "      <td>0.005635</td>\n",
       "      <td>0.001041</td>\n",
       "      <td>0.157321</td>\n",
       "    </tr>\n",
       "    <tr>\n",
       "      <th>2009-05-22</th>\n",
       "      <td>0.001148</td>\n",
       "      <td>0.000000</td>\n",
       "      <td>0.000578</td>\n",
       "      <td>0.123619</td>\n",
       "    </tr>\n",
       "    <tr>\n",
       "      <th>2009-05-26</th>\n",
       "      <td>0.000000</td>\n",
       "      <td>0.002185</td>\n",
       "      <td>0.000000</td>\n",
       "      <td>0.117926</td>\n",
       "    </tr>\n",
       "    <tr>\n",
       "      <th>2009-05-27</th>\n",
       "      <td>0.004937</td>\n",
       "      <td>0.004600</td>\n",
       "      <td>0.004973</td>\n",
       "      <td>0.129856</td>\n",
       "    </tr>\n",
       "    <tr>\n",
       "      <th>2009-05-28</th>\n",
       "      <td>0.005051</td>\n",
       "      <td>0.003450</td>\n",
       "      <td>0.001156</td>\n",
       "      <td>0.104442</td>\n",
       "    </tr>\n",
       "  </tbody>\n",
       "</table>\n",
       "</div>"
      ],
      "text/plain": [
       "                Open      High       Low    Volume\n",
       "Date                                              \n",
       "2009-05-21  0.006429  0.005635  0.001041  0.157321\n",
       "2009-05-22  0.001148  0.000000  0.000578  0.123619\n",
       "2009-05-26  0.000000  0.002185  0.000000  0.117926\n",
       "2009-05-27  0.004937  0.004600  0.004973  0.129856\n",
       "2009-05-28  0.005051  0.003450  0.001156  0.104442"
      ]
     },
     "execution_count": 27,
     "metadata": {},
     "output_type": "execute_result"
    }
   ],
   "source": [
    "from sklearn.preprocessing import MinMaxScaler\n",
    "scaler = MinMaxScaler()\n",
    "feature_minmax_transform_data = scaler.fit_transform(test[feature_columns])\n",
    "feature_minmax_transform = pd.DataFrame(columns=feature_columns, data=feature_minmax_transform_data, index=test.index)\n",
    "feature_minmax_transform.head()"
   ]
  },
  {
   "cell_type": "code",
   "execution_count": 28,
   "metadata": {},
   "outputs": [
    {
     "data": {
      "text/html": [
       "<div>\n",
       "<style scoped>\n",
       "    .dataframe tbody tr th:only-of-type {\n",
       "        vertical-align: middle;\n",
       "    }\n",
       "\n",
       "    .dataframe tbody tr th {\n",
       "        vertical-align: top;\n",
       "    }\n",
       "\n",
       "    .dataframe thead th {\n",
       "        text-align: right;\n",
       "    }\n",
       "</style>\n",
       "<table border=\"1\" class=\"dataframe\">\n",
       "  <thead>\n",
       "    <tr style=\"text-align: right;\">\n",
       "      <th></th>\n",
       "      <th>Open</th>\n",
       "      <th>High</th>\n",
       "      <th>Low</th>\n",
       "      <th>Volume</th>\n",
       "    </tr>\n",
       "    <tr>\n",
       "      <th>Date</th>\n",
       "      <th></th>\n",
       "      <th></th>\n",
       "      <th></th>\n",
       "      <th></th>\n",
       "    </tr>\n",
       "  </thead>\n",
       "  <tbody>\n",
       "    <tr>\n",
       "      <th>2009-05-21</th>\n",
       "      <td>0.006429</td>\n",
       "      <td>0.005635</td>\n",
       "      <td>0.001041</td>\n",
       "      <td>0.157321</td>\n",
       "    </tr>\n",
       "    <tr>\n",
       "      <th>2009-05-22</th>\n",
       "      <td>0.001148</td>\n",
       "      <td>0.000000</td>\n",
       "      <td>0.000578</td>\n",
       "      <td>0.123619</td>\n",
       "    </tr>\n",
       "    <tr>\n",
       "      <th>2009-05-26</th>\n",
       "      <td>0.000000</td>\n",
       "      <td>0.002185</td>\n",
       "      <td>0.000000</td>\n",
       "      <td>0.117926</td>\n",
       "    </tr>\n",
       "    <tr>\n",
       "      <th>2009-05-27</th>\n",
       "      <td>0.004937</td>\n",
       "      <td>0.004600</td>\n",
       "      <td>0.004973</td>\n",
       "      <td>0.129856</td>\n",
       "    </tr>\n",
       "    <tr>\n",
       "      <th>2009-05-28</th>\n",
       "      <td>0.005051</td>\n",
       "      <td>0.003450</td>\n",
       "      <td>0.001156</td>\n",
       "      <td>0.104442</td>\n",
       "    </tr>\n",
       "  </tbody>\n",
       "</table>\n",
       "</div>"
      ],
      "text/plain": [
       "                Open      High       Low    Volume\n",
       "Date                                              \n",
       "2009-05-21  0.006429  0.005635  0.001041  0.157321\n",
       "2009-05-22  0.001148  0.000000  0.000578  0.123619\n",
       "2009-05-26  0.000000  0.002185  0.000000  0.117926\n",
       "2009-05-27  0.004937  0.004600  0.004973  0.129856\n",
       "2009-05-28  0.005051  0.003450  0.001156  0.104442"
      ]
     },
     "metadata": {},
     "output_type": "display_data"
    },
    {
     "name": "stdout",
     "output_type": "stream",
     "text": [
      "Shape of features :  (2336, 4)\n",
      "Shape of target :  (2336, 1)\n"
     ]
    },
    {
     "data": {
      "text/html": [
       "<div>\n",
       "<style scoped>\n",
       "    .dataframe tbody tr th:only-of-type {\n",
       "        vertical-align: middle;\n",
       "    }\n",
       "\n",
       "    .dataframe tbody tr th {\n",
       "        vertical-align: top;\n",
       "    }\n",
       "\n",
       "    .dataframe thead th {\n",
       "        text-align: right;\n",
       "    }\n",
       "</style>\n",
       "<table border=\"1\" class=\"dataframe\">\n",
       "  <thead>\n",
       "    <tr style=\"text-align: right;\">\n",
       "      <th></th>\n",
       "      <th>Open</th>\n",
       "      <th>High</th>\n",
       "      <th>Low</th>\n",
       "      <th>Volume</th>\n",
       "    </tr>\n",
       "    <tr>\n",
       "      <th>Date</th>\n",
       "      <th></th>\n",
       "      <th></th>\n",
       "      <th></th>\n",
       "      <th></th>\n",
       "    </tr>\n",
       "  </thead>\n",
       "  <tbody>\n",
       "    <tr>\n",
       "      <th>2018-08-22</th>\n",
       "      <td>0.836296</td>\n",
       "      <td>0.853206</td>\n",
       "      <td>0.842370</td>\n",
       "      <td>0.081853</td>\n",
       "    </tr>\n",
       "    <tr>\n",
       "      <th>2018-08-23</th>\n",
       "      <td>0.851543</td>\n",
       "      <td>0.855135</td>\n",
       "      <td>0.858214</td>\n",
       "      <td>0.070664</td>\n",
       "    </tr>\n",
       "    <tr>\n",
       "      <th>2018-08-24</th>\n",
       "      <td>0.852346</td>\n",
       "      <td>0.859477</td>\n",
       "      <td>0.859184</td>\n",
       "      <td>0.055222</td>\n",
       "    </tr>\n",
       "    <tr>\n",
       "      <th>2018-08-27</th>\n",
       "      <td>0.861815</td>\n",
       "      <td>0.860923</td>\n",
       "      <td>0.863549</td>\n",
       "      <td>0.025209</td>\n",
       "    </tr>\n",
       "    <tr>\n",
       "      <th>2018-08-28</th>\n",
       "      <td>0.863099</td>\n",
       "      <td>0.876198</td>\n",
       "      <td>0.871471</td>\n",
       "      <td>0.070527</td>\n",
       "    </tr>\n",
       "  </tbody>\n",
       "</table>\n",
       "</div>"
      ],
      "text/plain": [
       "                Open      High       Low    Volume\n",
       "Date                                              \n",
       "2018-08-22  0.836296  0.853206  0.842370  0.081853\n",
       "2018-08-23  0.851543  0.855135  0.858214  0.070664\n",
       "2018-08-24  0.852346  0.859477  0.859184  0.055222\n",
       "2018-08-27  0.861815  0.860923  0.863549  0.025209\n",
       "2018-08-28  0.863099  0.876198  0.871471  0.070527"
      ]
     },
     "metadata": {},
     "output_type": "display_data"
    },
    {
     "data": {
      "text/html": [
       "<div>\n",
       "<style scoped>\n",
       "    .dataframe tbody tr th:only-of-type {\n",
       "        vertical-align: middle;\n",
       "    }\n",
       "\n",
       "    .dataframe tbody tr th {\n",
       "        vertical-align: top;\n",
       "    }\n",
       "\n",
       "    .dataframe thead th {\n",
       "        text-align: right;\n",
       "    }\n",
       "</style>\n",
       "<table border=\"1\" class=\"dataframe\">\n",
       "  <thead>\n",
       "    <tr style=\"text-align: right;\">\n",
       "      <th></th>\n",
       "      <th>Adj Close</th>\n",
       "    </tr>\n",
       "    <tr>\n",
       "      <th>Date</th>\n",
       "      <th></th>\n",
       "    </tr>\n",
       "  </thead>\n",
       "  <tbody>\n",
       "    <tr>\n",
       "      <th>2018-08-22</th>\n",
       "      <td>65.256126</td>\n",
       "    </tr>\n",
       "    <tr>\n",
       "      <th>2018-08-23</th>\n",
       "      <td>65.544205</td>\n",
       "    </tr>\n",
       "    <tr>\n",
       "      <th>2018-08-24</th>\n",
       "      <td>65.643539</td>\n",
       "    </tr>\n",
       "    <tr>\n",
       "      <th>2018-08-27</th>\n",
       "      <td>66.249519</td>\n",
       "    </tr>\n",
       "    <tr>\n",
       "      <th>2018-08-28</th>\n",
       "      <td>66.567413</td>\n",
       "    </tr>\n",
       "  </tbody>\n",
       "</table>\n",
       "</div>"
      ],
      "text/plain": [
       "            Adj Close\n",
       "Date                 \n",
       "2018-08-22  65.256126\n",
       "2018-08-23  65.544205\n",
       "2018-08-24  65.643539\n",
       "2018-08-27  66.249519\n",
       "2018-08-28  66.567413"
      ]
     },
     "metadata": {},
     "output_type": "display_data"
    },
    {
     "name": "stdout",
     "output_type": "stream",
     "text": [
      "\n",
      " -----After process------ \n",
      "\n",
      "Shape of features :  (2246, 4)\n",
      "Shape of target :  (2246, 1)\n"
     ]
    },
    {
     "data": {
      "text/html": [
       "<div>\n",
       "<style scoped>\n",
       "    .dataframe tbody tr th:only-of-type {\n",
       "        vertical-align: middle;\n",
       "    }\n",
       "\n",
       "    .dataframe tbody tr th {\n",
       "        vertical-align: top;\n",
       "    }\n",
       "\n",
       "    .dataframe thead th {\n",
       "        text-align: right;\n",
       "    }\n",
       "</style>\n",
       "<table border=\"1\" class=\"dataframe\">\n",
       "  <thead>\n",
       "    <tr style=\"text-align: right;\">\n",
       "      <th></th>\n",
       "      <th>Adj Close</th>\n",
       "    </tr>\n",
       "    <tr>\n",
       "      <th>Date</th>\n",
       "      <th></th>\n",
       "    </tr>\n",
       "  </thead>\n",
       "  <tbody>\n",
       "    <tr>\n",
       "      <th>2018-04-17</th>\n",
       "      <td>68.924156</td>\n",
       "    </tr>\n",
       "    <tr>\n",
       "      <th>2018-04-18</th>\n",
       "      <td>67.358368</td>\n",
       "    </tr>\n",
       "    <tr>\n",
       "      <th>2018-04-19</th>\n",
       "      <td>66.942154</td>\n",
       "    </tr>\n",
       "    <tr>\n",
       "      <th>2018-04-20</th>\n",
       "      <td>67.457474</td>\n",
       "    </tr>\n",
       "    <tr>\n",
       "      <th>2018-04-23</th>\n",
       "      <td>66.040337</td>\n",
       "    </tr>\n",
       "  </tbody>\n",
       "</table>\n",
       "</div>"
      ],
      "text/plain": [
       "            Adj Close\n",
       "Date                 \n",
       "2018-04-17  68.924156\n",
       "2018-04-18  67.358368\n",
       "2018-04-19  66.942154\n",
       "2018-04-20  67.457474\n",
       "2018-04-23  66.040337"
      ]
     },
     "metadata": {},
     "output_type": "display_data"
    }
   ],
   "source": [
    "display(feature_minmax_transform.head())\n",
    "print('Shape of features : ', feature_minmax_transform.shape)\n",
    "print('Shape of target : ', target_adj_close.shape)\n",
    "\n",
    "# Shift target array because we want to predict the n + 1 day value\n",
    "\n",
    "\n",
    "target_adj_close = target_adj_close.shift(-1)\n",
    "validation_y = target_adj_close[-90:-1]\n",
    "target_adj_close = target_adj_close[:-90]\n",
    "\n",
    "# Taking last 90 rows of data to be validation set\n",
    "validation_X = feature_minmax_transform[-90:-1]\n",
    "feature_minmax_transform = feature_minmax_transform[:-90]\n",
    "display(validation_X.tail())\n",
    "display(validation_y.tail())\n",
    "\n",
    "print(\"\\n -----After process------ \\n\")\n",
    "print('Shape of features : ', feature_minmax_transform.shape)\n",
    "print('Shape of target : ', target_adj_close.shape)\n",
    "display(target_adj_close.tail())\n"
   ]
  },
  {
   "cell_type": "code",
   "execution_count": 29,
   "metadata": {},
   "outputs": [],
   "source": [
    "dataset_test = pd.read_csv('pred.csv')\n",
    "real_stock_price = dataset_test.iloc[:, 1:2].values"
   ]
  },
  {
   "cell_type": "code",
   "execution_count": 30,
   "metadata": {},
   "outputs": [
    {
     "data": {
      "image/png": "[encoded data removed]",
      "text/plain": [
       "<Figure size 720x576 with 1 Axes>"
      ]
     },
     "metadata": {
      "needs_background": "light"
     },
     "output_type": "display_data"
    }
   ],
   "source": [
    "fig, ax = plt.subplots(figsize = (10,8))\n",
    "ax.scatter(cal.index.values, \n",
    "       cal['Volume'].values,\n",
    "       color='purple')\n",
    "ax.set(xlabel=\"Date\", ylabel=\"Volume(daily)\")\n",
    "ax.set(title=\"AMD Stocks volume sold per year\");"
   ]
  },
  {
   "cell_type": "markdown",
   "metadata": {},
   "source": [
    "# Analysis using Time series"
   ]
  },
  {
   "cell_type": "code",
   "execution_count": 36,
   "metadata": {},
   "outputs": [],
   "source": [
    "\n",
    "ts_split= TimeSeriesSplit(n_splits=15)\n",
    "for train_index, test_index in ts_split.split(feature_minmax_transform):\n",
    "        X_train, X_test = feature_minmax_transform[:len(train_index)], feature_minmax_transform[len(train_index): (len(train_index)+len(test_index))]\n",
    "        y_train, y_test = target_adj_close[:len(train_index)].values.ravel(), target_adj_close[len(train_index): (len(train_index)+len(test_index))].values.ravel()"
   ]
  },
  {
   "cell_type": "code",
   "execution_count": 37,
   "metadata": {},
   "outputs": [
    {
     "data": {
      "text/plain": [
       "(2106, 4)"
      ]
     },
     "execution_count": 37,
     "metadata": {},
     "output_type": "execute_result"
    }
   ],
   "source": [
    "X_train.shape"
   ]
  },
  {
   "cell_type": "code",
   "execution_count": 38,
   "metadata": {},
   "outputs": [],
   "source": [
    "def validate_result(model, model_name):\n",
    "    predicted = model.predict(validation_X)\n",
    "    RSME_score = np.sqrt(mean_squared_error(validation_y, predicted))\n",
    "    print('RMSE: ', RSME_score)\n",
    "    \n",
    "    R2_score = r2_score(validation_y, predicted)\n",
    "    print('R2 score: ', R2_score)\n",
    "\n",
    "    plt.plot(validation_y.index, predicted,'r', label='Predict')\n",
    "    plt.plot(validation_y.index, validation_y,'b', label='Actual')\n",
    "    plt.ylabel('Price')\n",
    "    plt.gca().xaxis.set_major_formatter(mdates.DateFormatter('%Y-%m-%d'))\n",
    "    plt.gca().xaxis.set_major_locator(mdates.MonthLocator())\n",
    "    plt.title(model_name + ' Predict vs Actual')\n",
    "    plt.legend(loc='upper right')\n",
    "    plt.show()"
   ]
  },
  {
   "cell_type": "code",
   "execution_count": 39,
   "metadata": {},
   "outputs": [
    {
     "data": {
      "image/png": "[encoded data removed]",
      "text/plain": [
       "<Figure size 720x576 with 1 Axes>"
      ]
     },
     "metadata": {
      "needs_background": "light"
     },
     "output_type": "display_data"
    }
   ],
   "source": [
    "fig, ax = plt.subplots(figsize = (10,8))\n",
    "ax.scatter(cal.index.values, \n",
    "       cal['High'].values,\n",
    "       color='purple')\n",
    "ax.set(xlabel=\"Date\", ylabel=\"High(peak value)\")\n",
    "ax.set(title=\" AMD Stocks peak sold per year\");"
   ]
  },
  {
   "cell_type": "code",
   "execution_count": 40,
   "metadata": {},
   "outputs": [],
   "source": [
    "from matplotlib.dates import (YEARLY, DateFormatter,\n",
    "                              rrulewrapper, RRuleLocator, drange)\n",
    "x=d['Adj Close'].head(10)\n",
    "y=d['High'].head(10)\n",
    "z=d['Low'].head(10)"
   ]
  },
  {
   "cell_type": "code",
   "execution_count": 41,
   "metadata": {},
   "outputs": [
    {
     "data": {
      "text/plain": [
       "[<matplotlib.lines.Line2D at 0x19bd17e0128>]"
      ]
     },
     "execution_count": 41,
     "metadata": {},
     "output_type": "execute_result"
    },
    {
     "data": {
      "image/png": "[encoded data removed]",
      "text/plain": [
       "<Figure size 432x288 with 1 Axes>"
      ]
     },
     "metadata": {
      "needs_background": "light"
     },
     "output_type": "display_data"
    }
   ],
   "source": [
    "plt.plot(x,y)\n",
    "plt.plot(x,z)"
   ]
  },
  {
   "cell_type": "markdown",
   "metadata": {},
   "source": [
    "# Current Analysis"
   ]
  },
  {
   "cell_type": "code",
   "execution_count": 42,
   "metadata": {},
   "outputs": [
    {
     "data": {
      "text/plain": [
       "[<matplotlib.lines.Line2D at 0x19bdf2553c8>]"
      ]
     },
     "execution_count": 42,
     "metadata": {},
     "output_type": "execute_result"
    },
    {
     "data": {
      "image/png": "[encoded data removed]",
      "text/plain": [
       "<Figure size 1152x576 with 1 Axes>"
      ]
     },
     "metadata": {
      "needs_background": "light"
     },
     "output_type": "display_data"
    }
   ],
   "source": [
    "m = pd.read_csv(r'A.csv', parse_dates=['Date'], na_values=['999.99'],index_col = ['Date'])\n",
    "cal = m[start :end]\n",
    "cal.head()\n",
    "\n",
    "#plot\n",
    "plt.figure(figsize=(16,8))\n",
    "plt.plot(d['Adj Close'], label='Close Price history')"
   ]
  },
  {
   "cell_type": "markdown",
   "metadata": {},
   "source": [
    "# LSTM analysis"
   ]
  },
  {
   "cell_type": "code",
   "execution_count": 31,
   "metadata": {},
   "outputs": [
    {
     "name": "stderr",
     "output_type": "stream",
     "text": [
      "Using TensorFlow backend.\n"
     ]
    }
   ],
   "source": [
    "# Importing the Keras libraries and packages\n",
    "\n",
    "from keras import *\n",
    "from keras.models import Sequential\n",
    "\n",
    "from keras.layers import Dense\n",
    "from keras.layers import LSTM\n",
    "from keras.layers import Dropout"
   ]
  },
  {
   "cell_type": "code",
   "execution_count": 32,
   "metadata": {},
   "outputs": [
    {
     "name": "stdout",
     "output_type": "stream",
     "text": [
      "WARNING:tensorflow:From C:\\Users\\Prakhar Tripathi\\Anaconda3\\envs\\ML\\lib\\site-packages\\tensorflow\\python\\framework\\op_def_library.py:263: colocate_with (from tensorflow.python.framework.ops) is deprecated and will be removed in a future version.\n",
      "Instructions for updating:\n",
      "Colocations handled automatically by placer.\n",
      "WARNING:tensorflow:From C:\\Users\\Prakhar Tripathi\\Anaconda3\\envs\\ML\\lib\\site-packages\\keras\\backend\\tensorflow_backend.py:3445: calling dropout (from tensorflow.python.ops.nn_ops) with keep_prob is deprecated and will be removed in a future version.\n",
      "Instructions for updating:\n",
      "Please use `rate` instead of `keep_prob`. Rate should be set to `rate = 1 - keep_prob`.\n",
      "WARNING:tensorflow:From C:\\Users\\Prakhar Tripathi\\Anaconda3\\envs\\ML\\lib\\site-packages\\tensorflow\\python\\ops\\math_ops.py:3066: to_int32 (from tensorflow.python.ops.math_ops) is deprecated and will be removed in a future version.\n",
      "Instructions for updating:\n",
      "Use tf.cast instead.\n",
      "Epoch 1/50\n",
      "1975/1975 [==============================] - 34s 17ms/step - loss: 0.0076\n",
      "Epoch 2/50\n",
      "1975/1975 [==============================] - 25s 13ms/step - loss: 0.0023\n",
      "Epoch 3/50\n",
      "1975/1975 [==============================] - 25s 13ms/step - loss: 0.0020\n",
      "Epoch 4/50\n",
      "1975/1975 [==============================] - 25s 12ms/step - loss: 0.0017\n",
      "Epoch 5/50\n",
      "1975/1975 [==============================] - 25s 13ms/step - loss: 0.0018\n",
      "Epoch 6/50\n",
      "1975/1975 [==============================] - 26s 13ms/step - loss: 0.0015\n",
      "Epoch 7/50\n",
      "1975/1975 [==============================] - 25s 12ms/step - loss: 0.0013\n",
      "Epoch 8/50\n",
      "1975/1975 [==============================] - 26s 13ms/step - loss: 0.0012\n",
      "Epoch 9/50\n",
      "1975/1975 [==============================] - 25s 13ms/step - loss: 0.0015\n",
      "Epoch 10/50\n",
      "1975/1975 [==============================] - 26s 13ms/step - loss: 0.0011\n",
      "Epoch 11/50\n",
      "1975/1975 [==============================] - 25s 13ms/step - loss: 0.0011\n",
      "Epoch 12/50\n",
      "1975/1975 [==============================] - 25s 13ms/step - loss: 9.7557e-04\n",
      "Epoch 13/50\n",
      "1975/1975 [==============================] - 24s 12ms/step - loss: 8.6776e-04\n",
      "Epoch 14/50\n",
      "1975/1975 [==============================] - 25s 13ms/step - loss: 0.0010\n",
      "Epoch 15/50\n",
      "1975/1975 [==============================] - 26s 13ms/step - loss: 9.6926e-04\n",
      "Epoch 16/50\n",
      "1975/1975 [==============================] - 26s 13ms/step - loss: 7.9941e-04\n",
      "Epoch 17/50\n",
      "1975/1975 [==============================] - 26s 13ms/step - loss: 7.8732e-04\n",
      "Epoch 18/50\n",
      "1975/1975 [==============================] - 26s 13ms/step - loss: 7.1254e-04\n",
      "Epoch 19/50\n",
      "1975/1975 [==============================] - 26s 13ms/step - loss: 7.7139e-04\n",
      "Epoch 20/50\n",
      "1975/1975 [==============================] - 26s 13ms/step - loss: 6.7841e-04\n",
      "Epoch 21/50\n",
      "1975/1975 [==============================] - 26s 13ms/step - loss: 7.2825e-04\n",
      "Epoch 22/50\n",
      "1975/1975 [==============================] - 25s 13ms/step - loss: 6.4270e-04\n",
      "Epoch 23/50\n",
      "1975/1975 [==============================] - 25s 13ms/step - loss: 7.2866e-04\n",
      "Epoch 24/50\n",
      "1975/1975 [==============================] - 24s 12ms/step - loss: 6.0794e-04\n",
      "Epoch 25/50\n",
      "1975/1975 [==============================] - 26s 13ms/step - loss: 5.7966e-04\n",
      "Epoch 26/50\n",
      "1975/1975 [==============================] - 25s 13ms/step - loss: 5.8359e-04\n",
      "Epoch 27/50\n",
      "1975/1975 [==============================] - 26s 13ms/step - loss: 5.5229e-04\n",
      "Epoch 28/50\n",
      "1975/1975 [==============================] - 25s 13ms/step - loss: 5.9092e-04\n",
      "Epoch 29/50\n",
      "1975/1975 [==============================] - 25s 13ms/step - loss: 6.0136e-04\n",
      "Epoch 30/50\n",
      "1975/1975 [==============================] - 25s 13ms/step - loss: 5.1745e-04\n",
      "Epoch 31/50\n",
      "1975/1975 [==============================] - 24s 12ms/step - loss: 5.6481e-04\n",
      "Epoch 32/50\n",
      "1975/1975 [==============================] - 25s 13ms/step - loss: 4.6255e-04\n",
      "Epoch 33/50\n",
      "1975/1975 [==============================] - 26s 13ms/step - loss: 4.8662e-04\n",
      "Epoch 34/50\n",
      "1975/1975 [==============================] - 25s 13ms/step - loss: 4.5365e-04\n",
      "Epoch 35/50\n",
      "1975/1975 [==============================] - 25s 13ms/step - loss: 4.7350e-04\n",
      "Epoch 36/50\n",
      "1975/1975 [==============================] - 25s 13ms/step - loss: 4.7051e-04\n",
      "Epoch 37/50\n",
      "1975/1975 [==============================] - 27s 14ms/step - loss: 4.6233e-04\n",
      "Epoch 38/50\n",
      "1975/1975 [==============================] - 20s 10ms/step - loss: 4.5917e-04\n",
      "Epoch 39/50\n",
      "1975/1975 [==============================] - 17s 9ms/step - loss: 4.5975e-04\n",
      "Epoch 40/50\n",
      "1975/1975 [==============================] - 17s 9ms/step - loss: 4.9944e-04\n",
      "Epoch 41/50\n",
      "1975/1975 [==============================] - 17s 9ms/step - loss: 4.4955e-04\n",
      "Epoch 42/50\n",
      "1975/1975 [==============================] - 19s 10ms/step - loss: 4.2500e-04\n",
      "Epoch 43/50\n",
      "1975/1975 [==============================] - 19s 9ms/step - loss: 4.2076e-04\n",
      "Epoch 44/50\n",
      "1975/1975 [==============================] - 17s 9ms/step - loss: 4.6109e-04\n",
      "Epoch 45/50\n",
      "1975/1975 [==============================] - 17s 8ms/step - loss: 3.9829e-04\n",
      "Epoch 46/50\n",
      "1975/1975 [==============================] - 17s 9ms/step - loss: 4.0243e-04\n",
      "Epoch 47/50\n",
      "1975/1975 [==============================] - 17s 8ms/step - loss: 4.0487e-04\n",
      "Epoch 48/50\n",
      "1975/1975 [==============================] - 16s 8ms/step - loss: 4.3428e-04\n",
      "Epoch 49/50\n",
      "1975/1975 [==============================] - 17s 9ms/step - loss: 3.6796e-04\n",
      "Epoch 50/50\n",
      "1975/1975 [==============================] - 19s 10ms/step - loss: 4.5305e-04\n"
     ]
    },
    {
     "data": {
      "text/plain": [
       "<keras.callbacks.History at 0x19bd45ba470>"
      ]
     },
     "execution_count": 32,
     "metadata": {},
     "output_type": "execute_result"
    }
   ],
   "source": [
    "regressor = Sequential()\n",
    "\n",
    "regressor.add(LSTM(units = 50, return_sequences = True, input_shape = (X_train.shape[1], 1)))\n",
    "regressor.add(Dropout(0.2))\n",
    "\n",
    "regressor.add(LSTM(units = 50, return_sequences = True))\n",
    "regressor.add(Dropout(0.2))\n",
    "\n",
    "regressor.add(LSTM(units = 50, return_sequences = True))\n",
    "regressor.add(Dropout(0.2))\n",
    "\n",
    "regressor.add(LSTM(units = 50))\n",
    "regressor.add(Dropout(0.2))\n",
    "\n",
    "regressor.add(Dense(units = 1))\n",
    "\n",
    "regressor.compile(optimizer = 'adam', loss = 'mean_squared_error')\n",
    "\n",
    "regressor.fit(X_train, y_train, epochs = 50, batch_size = 16)"
   ]
  },
  {
   "cell_type": "code",
   "execution_count": 33,
   "metadata": {},
   "outputs": [],
   "source": [
    "dataset_test = pd.read_csv('pred.csv')\n",
    "real_stock_price = dataset_test.iloc[:, 1:2].values"
   ]
  },
  {
   "cell_type": "code",
   "execution_count": 34,
   "metadata": {},
   "outputs": [],
   "source": [
    "dataset_total = pd.concat((dataset_train['High'], dataset_test['High']), axis = 0)\n",
    "inputs = dataset_total[len(dataset_total) - len(dataset_test) - 60:].values\n",
    "inputs = inputs.reshape(-1,1)\n",
    "inputs = sc.transform(inputs)\n",
    "X_test = []\n",
    "for i in range(60, 76):\n",
    "    X_test.append(inputs[i-60:i, 0])\n",
    "X_test = np.array(X_test)\n",
    "X_test = np.reshape(X_test, (X_test.shape[0], X_test.shape[1], 1))\n",
    "predicted_stock_price = regressor.predict(X_test)\n",
    "predicted_stock_price = sc.inverse_transform(predicted_stock_price)"
   ]
  },
  {
   "cell_type": "code",
   "execution_count": 43,
   "metadata": {},
   "outputs": [],
   "source": [
    "\n",
    "def validate_result(model, model_name):\n",
    "    predicted = model.predict(validation_X)\n",
    "    RSME_score = np.sqrt(mean_squared_error(validation_y, predicted))\n",
    "    print('RMSE: ', RSME_score)\n",
    "    \n",
    "    R2_score = r2_score(validation_y, predicted)\n",
    "    print('R2 score: ', R2_score)\n",
    "\n",
    "    plt.plot(validation_y.index, predicted,'r', label='Predict')\n",
    "    plt.plot(validation_y.index, validation_y,'b', label='Actual')\n",
    "    plt.ylabel('Price')\n",
    "    plt.gca().xaxis.set_major_formatter(mdates.DateFormatter('%Y-%m-%d'))\n",
    "    plt.gca().xaxis.set_major_locator(mdates.MonthLocator())\n",
    "    plt.title(model_name + ' Predict vs Actual')\n",
    "    plt.legend(loc='upper right')\n",
    "    plt.show()"
   ]
  },
  {
   "cell_type": "markdown",
   "metadata": {},
   "source": [
    "# Linear Regression Bench Mark"
   ]
  },
  {
   "cell_type": "code",
   "execution_count": 58,
   "metadata": {},
   "outputs": [
    {
     "name": "stdout",
     "output_type": "stream",
     "text": [
      "RMSE:  1.3569339055733143\n",
      "R2 score:  0.513964308312458\n"
     ]
    },
    {
     "ename": "NameError",
     "evalue": "name 'mdates' is not defined",
     "output_type": "error",
     "traceback": [
      "\u001b[1;31m---------------------------------------------------------------------------\u001b[0m",
      "\u001b[1;31mNameError\u001b[0m                                 Traceback (most recent call last)",
      "\u001b[1;32m<ipython-input-58-31a5802d9c2d>\u001b[0m in \u001b[0;36m<module>\u001b[1;34m\u001b[0m\n\u001b[0;32m      6\u001b[0m \u001b[0mbenchmark_dt\u001b[0m\u001b[1;33m=\u001b[0m\u001b[0mdt\u001b[0m\u001b[1;33m.\u001b[0m\u001b[0mfit\u001b[0m\u001b[1;33m(\u001b[0m\u001b[0mX_train\u001b[0m\u001b[1;33m,\u001b[0m \u001b[0my_train\u001b[0m\u001b[1;33m)\u001b[0m\u001b[1;33m\u001b[0m\u001b[1;33m\u001b[0m\u001b[0m\n\u001b[0;32m      7\u001b[0m \u001b[1;33m\u001b[0m\u001b[0m\n\u001b[1;32m----> 8\u001b[1;33m \u001b[0mvalidate_result\u001b[0m\u001b[1;33m(\u001b[0m\u001b[0mbenchmark_dt\u001b[0m\u001b[1;33m,\u001b[0m \u001b[1;34m'Linear Regression'\u001b[0m\u001b[1;33m)\u001b[0m\u001b[1;33m\u001b[0m\u001b[1;33m\u001b[0m\u001b[0m\n\u001b[0m",
      "\u001b[1;32m<ipython-input-43-425d0171fc37>\u001b[0m in \u001b[0;36mvalidate_result\u001b[1;34m(model, model_name)\u001b[0m\n\u001b[0;32m     11\u001b[0m     \u001b[0mplt\u001b[0m\u001b[1;33m.\u001b[0m\u001b[0mplot\u001b[0m\u001b[1;33m(\u001b[0m\u001b[0mvalidation_y\u001b[0m\u001b[1;33m.\u001b[0m\u001b[0mindex\u001b[0m\u001b[1;33m,\u001b[0m \u001b[0mvalidation_y\u001b[0m\u001b[1;33m,\u001b[0m\u001b[1;34m'b'\u001b[0m\u001b[1;33m,\u001b[0m \u001b[0mlabel\u001b[0m\u001b[1;33m=\u001b[0m\u001b[1;34m'Actual'\u001b[0m\u001b[1;33m)\u001b[0m\u001b[1;33m\u001b[0m\u001b[1;33m\u001b[0m\u001b[0m\n\u001b[0;32m     12\u001b[0m     \u001b[0mplt\u001b[0m\u001b[1;33m.\u001b[0m\u001b[0mylabel\u001b[0m\u001b[1;33m(\u001b[0m\u001b[1;34m'Price'\u001b[0m\u001b[1;33m)\u001b[0m\u001b[1;33m\u001b[0m\u001b[1;33m\u001b[0m\u001b[0m\n\u001b[1;32m---> 13\u001b[1;33m     \u001b[0mplt\u001b[0m\u001b[1;33m.\u001b[0m\u001b[0mgca\u001b[0m\u001b[1;33m(\u001b[0m\u001b[1;33m)\u001b[0m\u001b[1;33m.\u001b[0m\u001b[0mxaxis\u001b[0m\u001b[1;33m.\u001b[0m\u001b[0mset_major_formatter\u001b[0m\u001b[1;33m(\u001b[0m\u001b[0mmdates\u001b[0m\u001b[1;33m.\u001b[0m\u001b[0mDateFormatter\u001b[0m\u001b[1;33m(\u001b[0m\u001b[1;34m'%Y-%m-%d'\u001b[0m\u001b[1;33m)\u001b[0m\u001b[1;33m)\u001b[0m\u001b[1;33m\u001b[0m\u001b[1;33m\u001b[0m\u001b[0m\n\u001b[0m\u001b[0;32m     14\u001b[0m     \u001b[0mplt\u001b[0m\u001b[1;33m.\u001b[0m\u001b[0mgca\u001b[0m\u001b[1;33m(\u001b[0m\u001b[1;33m)\u001b[0m\u001b[1;33m.\u001b[0m\u001b[0mxaxis\u001b[0m\u001b[1;33m.\u001b[0m\u001b[0mset_major_locator\u001b[0m\u001b[1;33m(\u001b[0m\u001b[0mmdates\u001b[0m\u001b[1;33m.\u001b[0m\u001b[0mMonthLocator\u001b[0m\u001b[1;33m(\u001b[0m\u001b[1;33m)\u001b[0m\u001b[1;33m)\u001b[0m\u001b[1;33m\u001b[0m\u001b[1;33m\u001b[0m\u001b[0m\n\u001b[0;32m     15\u001b[0m     \u001b[0mplt\u001b[0m\u001b[1;33m.\u001b[0m\u001b[0mtitle\u001b[0m\u001b[1;33m(\u001b[0m\u001b[0mmodel_name\u001b[0m \u001b[1;33m+\u001b[0m \u001b[1;34m' Predict vs Actual'\u001b[0m\u001b[1;33m)\u001b[0m\u001b[1;33m\u001b[0m\u001b[1;33m\u001b[0m\u001b[0m\n",
      "\u001b[1;31mNameError\u001b[0m: name 'mdates' is not defined"
     ]
    },
    {
     "data": {
      "image/png": "[encoded data removed]",
      "text/plain": [
       "<Figure size 432x288 with 1 Axes>"
      ]
     },
     "metadata": {
      "needs_background": "light"
     },
     "output_type": "display_data"
    }
   ],
   "source": [
    "from sklearn.linear_model import LinearRegression\n",
    "from sklearn.metrics import r2_score\n",
    "\n",
    "dt = LinearRegression()\n",
    "\n",
    "benchmark_dt=dt.fit(X_train, y_train)\n",
    "\n",
    "validate_result(benchmark_dt, 'Linear Regression')"
   ]
  },
  {
   "cell_type": "code",
   "execution_count": null,
   "metadata": {},
   "outputs": [],
   "source": []
  },
  {
   "cell_type": "code",
   "execution_count": 59,
   "metadata": {},
   "outputs": [
    {
     "data": {
      "image/png": "[encoded data removed]",
      "text/plain": [
       "<Figure size 432x288 with 1 Axes>"
      ]
     },
     "metadata": {
      "needs_background": "light"
     },
     "output_type": "display_data"
    }
   ],
   "source": [
    "import matplotlib.pyplot as plt\n",
    "\n",
    "plt.plot(real_stock_price, color = 'black', label = 'AMD Stock Price')\n",
    "plt.plot(predicted_stock_price, color = 'green', label = 'Predicted  Stock Price')\n",
    "plt.title('AMD Stock Price Prediction')\n",
    "plt.xlabel('Time')\n",
    "plt.ylabel(' Stock Price')\n",
    "plt.legend()\n",
    "plt.show()"
   ]
  },
  {
   "cell_type": "code",
   "execution_count": 60,
   "metadata": {},
   "outputs": [],
   "source": [
    "X_train =np.array(X_train)\n",
    "X_test =np.array(X_test)\n",
    "\n",
    "X_tr_t = X_train.reshape(X_train.shape[0], 1, X_train.shape[1])\n",
    "X_tst_t = X_test.reshape(X_test.shape[0], 1, X_test.shape[1])"
   ]
  },
  {
   "cell_type": "markdown",
   "metadata": {},
   "source": [
    "# LSTM predictions"
   ]
  },
  {
   "cell_type": "code",
   "execution_count": 61,
   "metadata": {},
   "outputs": [
    {
     "name": "stdout",
     "output_type": "stream",
     "text": [
      "Epoch 1/20\n",
      "2106/2106 [==============================] - 2s 825us/step - loss: 1148.3653\n",
      "Epoch 2/20\n",
      "2106/2106 [==============================] - 1s 268us/step - loss: 845.2944\n",
      "Epoch 3/20\n",
      "2106/2106 [==============================] - 1s 263us/step - loss: 386.9952\n",
      "Epoch 4/20\n",
      "2106/2106 [==============================] - 1s 263us/step - loss: 112.3850\n",
      "Epoch 5/20\n",
      "2106/2106 [==============================] - 1s 265us/step - loss: 26.7911\n",
      "Epoch 6/20\n",
      "2106/2106 [==============================] - 1s 270us/step - loss: 11.9513\n",
      "Epoch 7/20\n",
      "2106/2106 [==============================] - 1s 260us/step - loss: 9.4400\n",
      "Epoch 8/20\n",
      "2106/2106 [==============================] - 1s 267us/step - loss: 7.7164\n",
      "Epoch 9/20\n",
      "2106/2106 [==============================] - 1s 264us/step - loss: 5.9109\n",
      "Epoch 10/20\n",
      "2106/2106 [==============================] - 1s 273us/step - loss: 4.7553\n",
      "Epoch 11/20\n",
      "2106/2106 [==============================] - 1s 274us/step - loss: 3.9595\n",
      "Epoch 12/20\n",
      "2106/2106 [==============================] - 1s 275us/step - loss: 3.3798\n",
      "Epoch 13/20\n",
      "2106/2106 [==============================] - 1s 273us/step - loss: 2.9233\n",
      "Epoch 14/20\n",
      "2106/2106 [==============================] - 1s 326us/step - loss: 2.5294\n",
      "Epoch 15/20\n",
      "2106/2106 [==============================] - 1s 309us/step - loss: 2.1691\n",
      "Epoch 16/20\n",
      "2106/2106 [==============================] - 1s 261us/step - loss: 1.8453\n",
      "Epoch 17/20\n",
      "2106/2106 [==============================] - 1s 261us/step - loss: 1.5562\n",
      "Epoch 18/20\n",
      "2106/2106 [==============================] - 1s 276us/step - loss: 1.3034\n",
      "Epoch 19/20\n",
      "2106/2106 [==============================] - 1s 341us/step - loss: 1.0833\n",
      "Epoch 20/20\n",
      "2106/2106 [==============================] - 1s 327us/step - loss: 0.9035\n"
     ]
    }
   ],
   "source": [
    "from keras.models import Sequential\n",
    "from keras.layers import Dense\n",
    "import keras.backend as K\n",
    "from keras.callbacks import EarlyStopping\n",
    "from keras.optimizers import Adam\n",
    "from keras.models import load_model\n",
    "from keras.layers import LSTM\n",
    "K.clear_session()\n",
    "model_lstm = Sequential()\n",
    "model_lstm.add(LSTM(16, input_shape=(1, X_train.shape[1]), activation='relu', return_sequences=False))\n",
    "model_lstm.add(Dense(1))\n",
    "model_lstm.compile(loss='mean_squared_error', optimizer='adam')\n",
    "early_stop = EarlyStopping(monitor='loss', patience=5, verbose=1)\n",
    "history_model_lstm = model_lstm.fit(X_tr_t, y_train, epochs=20, batch_size=8, verbose=1, shuffle=False, callbacks=[early_stop])"
   ]
  },
  {
   "cell_type": "code",
   "execution_count": 49,
   "metadata": {},
   "outputs": [
    {
     "name": "stdout",
     "output_type": "stream",
     "text": [
      "The R2 score on the Train set is:\t0.994\n",
      "The R2 score on the Test set is:\t0.358\n"
     ]
    }
   ],
   "source": [
    "\n",
    "y_pred_test_lstm = model_lstm.predict(X_tst_t)\n",
    "y_train_pred_lstm = model_lstm.predict(X_tr_t)\n",
    "print(\"The R2 score on the Train set is:\\t{:0.3f}\".format(r2_score(y_train, y_train_pred_lstm)))\n",
    "r2_train = r2_score(y_train, y_train_pred_lstm)\n",
    "\n",
    "print(\"The R2 score on the Test set is:\\t{:0.3f}\".format(r2_score(y_test, y_pred_test_lstm)))\n",
    "r2_test = r2_score(y_test, y_pred_test_lstm)"
   ]
  },
  {
   "cell_type": "code",
   "execution_count": 50,
   "metadata": {},
   "outputs": [
    {
     "name": "stdout",
     "output_type": "stream",
     "text": [
      "140/140 [==============================] - 0s 3ms/step\n"
     ]
    }
   ],
   "source": [
    "lstm= model_lstm.evaluate(X_tst_t, y_test, batch_size=1)"
   ]
  },
  {
   "cell_type": "code",
   "execution_count": 51,
   "metadata": {},
   "outputs": [
    {
     "name": "stdout",
     "output_type": "stream",
     "text": [
      "LSTM: 3.153766\n"
     ]
    }
   ],
   "source": [
    "print('LSTM: %f'%lstm)"
   ]
  },
  {
   "cell_type": "code",
   "execution_count": 53,
   "metadata": {},
   "outputs": [],
   "source": [
    "y_pred_test_LSTM = model_lstm.predict(X_tst_t)"
   ]
  },
  {
   "cell_type": "code",
   "execution_count": 54,
   "metadata": {},
   "outputs": [
    {
     "data": {
      "text/plain": [
       "Date\n",
       "2009-05-21    4439900.0\n",
       "2009-05-22    3602900.0\n",
       "2009-05-26    3461500.0\n",
       "2009-05-27    3757800.0\n",
       "2009-05-28    3126600.0\n",
       "2009-05-29    2769200.0\n",
       "2009-06-01    5764500.0\n",
       "2009-06-02    5233600.0\n",
       "2009-06-03    5618100.0\n",
       "2009-06-04    4408100.0\n",
       "2009-06-05    3230300.0\n",
       "2009-06-08    3000500.0\n",
       "2009-06-09    4124100.0\n",
       "2009-06-10    3781700.0\n",
       "2009-06-11    4628600.0\n",
       "2009-06-12    3673500.0\n",
       "2009-06-15    3293400.0\n",
       "2009-06-16    4170600.0\n",
       "2009-06-17    4365300.0\n",
       "2009-06-18    3287800.0\n",
       "2009-06-19    6732600.0\n",
       "2009-06-22    4045900.0\n",
       "2009-06-23    3580100.0\n",
       "2009-06-24    5450800.0\n",
       "2009-06-25    7063600.0\n",
       "2009-06-26    4788500.0\n",
       "2009-06-29    3079700.0\n",
       "2009-06-30    5433000.0\n",
       "2009-07-01    4742700.0\n",
       "2009-07-02    6138800.0\n",
       "                ...    \n",
       "2017-03-30    1627400.0\n",
       "2017-03-31    1705600.0\n",
       "2017-04-03    1550200.0\n",
       "2017-04-04    2017100.0\n",
       "2017-04-05    1778300.0\n",
       "2017-04-06    1548200.0\n",
       "2017-04-07    1243600.0\n",
       "2017-04-10    1025200.0\n",
       "2017-04-11    1520700.0\n",
       "2017-04-12    1258200.0\n",
       "2017-04-13     864000.0\n",
       "2017-04-17    1569200.0\n",
       "2017-04-18    1241000.0\n",
       "2017-04-19    2095700.0\n",
       "2017-04-20    1570000.0\n",
       "2017-04-21    2189400.0\n",
       "2017-04-24    2257700.0\n",
       "2017-04-25    2181900.0\n",
       "2017-04-26    1835000.0\n",
       "2017-04-27    1529000.0\n",
       "2017-04-28    3076600.0\n",
       "2017-05-01    1897000.0\n",
       "2017-05-02    1693100.0\n",
       "2017-05-03    1702600.0\n",
       "2017-05-04    2615600.0\n",
       "2017-05-05    1571500.0\n",
       "2017-05-08    2190000.0\n",
       "2017-05-09    1559200.0\n",
       "2017-05-10    1566300.0\n",
       "2017-05-11    1347600.0\n",
       "Name: Volume, Length: 2008, dtype: float64"
      ]
     },
     "execution_count": 54,
     "metadata": {},
     "output_type": "execute_result"
    }
   ],
   "source": [
    "#1. Specify the entire range:\n",
    "ts['2011-05-11':'2017-05-11']\n",
    "\n",
    "#2. Use ':' if one of the indices is at ends:\n",
    "ts[:'2017-05-11']"
   ]
  },
  {
   "cell_type": "markdown",
   "metadata": {},
   "source": [
    "# Actual V/S Predicted"
   ]
  },
  {
   "cell_type": "code",
   "execution_count": 56,
   "metadata": {},
   "outputs": [
    {
     "data": {
      "image/png": "[encoded data removed]",
      "text/plain": [
       "<Figure size 432x288 with 1 Axes>"
      ]
     },
     "metadata": {
      "needs_background": "light"
     },
     "output_type": "display_data"
    }
   ],
   "source": [
    "plt.plot(y_test, label='True_stock')\n",
    "plt.plot(y_pred_test_LSTM, label='predited_LSTM')\n",
    "plt.title(\"AMD LSTM_Prediction\")\n",
    "plt.xlabel('Observation')\n",
    "plt.ylabel('Scaled')\n",
    "plt.legend()\n",
    "plt.show()"
   ]
  },
  {
   "cell_type": "markdown",
   "metadata": {},
   "source": [
    "# Robustness"
   ]
  },
  {
   "cell_type": "code",
   "execution_count": null,
   "metadata": {},
   "outputs": [],
   "source": []
  }
 ],
 "metadata": {
  "kernelspec": {
   "display_name": "Python 3",
   "language": "python",
   "name": "python3"
  },
  "language_info": {
   "codemirror_mode": {
    "name": "ipython",
    "version": 3
   },
   "file_extension": ".py",
   "mimetype": "text/x-python",
   "name": "python",
   "nbconvert_exporter": "python",
   "pygments_lexer": "ipython3",
   "version": "3.6.8"
  }
 },
 "nbformat": 4,
 "nbformat_minor": 2
}
